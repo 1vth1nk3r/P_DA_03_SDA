{
 "cells": [
  {
   "cell_type": "markdown",
   "metadata": {},
   "source": [
    "Project description\n",
    "===\n",
    "\n",
    "Here we have a small dataset of various data on 500 Megaline clients.  We would like to know if one of the prepaid plans (Surf and Ultimate) brings in more revenue.\n",
    "\n",
    "First, we should do some data preprocessing: fill in the missing values, clean spelling errors, and change data types. Also, we need to add some new columns that will help in our analysis. After doing so, we could explore our data and test hypotheses.\n",
    "<br /><br />\n",
    "\n",
    "**Description of the data**\n",
    "\n",
    "Megaline rounds seconds up to minutes, and megabytes to gigabytes. For calls, each individual call is rounded up: even if the call lasted just one second, it will be counted as one minute. For web traffic, individual web sessions are not rounded up. Instead, the total for the month is rounded up. If someone uses 1025 megabytes this month, they will be charged for 2 gigabytes.\n",
    "\n",
    "```\n",
    "The users table (data on users): \n",
    "    user_id — unique user identifier\n",
    "    first_name — user's name\n",
    "    last_name — user's last name\n",
    "    age — user's age (years)\n",
    "    reg_date — subscription date (dd, mm, yy)\n",
    "    churn_date — the date the user stopped using the service (if the value is missing, the calling plan was being used when this data was retrieved)\n",
    "    city — user's city of residence\n",
    "    plan — calling plan name    \n",
    "\n",
    "The calls table (data on calls):\n",
    "    id — unique call identifier\n",
    "    call_date — call date\n",
    "    duration — call duration (in minutes)\n",
    "    user_id — the identifier of the user making the call\n",
    "    \n",
    "The messages table (data on texts):\n",
    "    id — unique text message identifier\n",
    "    message_date — text message date\n",
    "    user_id — the identifier of the user sending the text\n",
    "\n",
    "The internet table (data on web sessions):\n",
    "    id — unique session identifier\n",
    "    mb_used — the volume of data spent during the session (in megabytes)\n",
    "    session_date — web session date\n",
    "    user_id — user identifier\n",
    "    \n",
    "The plans table (data on the plans):\n",
    "    plan_name — calling plan name\n",
    "    usd_monthly_fee — monthly charge in US dollars\n",
    "    minutes_included — monthly minute allowance\n",
    "    messages_included — monthly text allowance\n",
    "    mb_per_month_included — data volume allowance (in megabytes)\n",
    "    usd_per_minute — price per minute after exceeding the package limits (e.g., if the package includes 100 minutes, the 101st minute will be charged)\n",
    "    usd_per_message — price per text after exceeding the package limits\n",
    "    usd_per_gb — price per extra gigabyte of data after exceeding the package limits (1 GB = 1024 megabytes)\n",
    "``` "
   ]
  },
  {
   "cell_type": "markdown",
   "metadata": {},
   "source": [
    "## Open the data file and study the general information"
   ]
  },
  {
   "cell_type": "code",
   "execution_count": 1,
   "metadata": {},
   "outputs": [],
   "source": [
    "import pandas as pd\n",
    "import numpy as np\n",
    "from scipy import stats as st\n",
    "import matplotlib.pyplot as plt \n",
    "import seaborn as sns\n",
    "import sidetable\n",
    "from functools import reduce\n",
    "\n",
    "%matplotlib inline\n",
    "%config InlineBackend.figure_format = 'png'\n",
    "%config InlineBackend.figure_format = 'retina'"
   ]
  },
  {
   "cell_type": "code",
   "execution_count": 2,
   "metadata": {},
   "outputs": [],
   "source": [
    "try:\n",
    "    calls = pd.read_csv('megaline_calls.csv')\n",
    "    data = pd.read_csv('megaline_internet.csv')\n",
    "    messages = pd.read_csv('megaline_messages.csv')\n",
    "    plans = pd.read_csv('megaline_plans.csv')\n",
    "    users = pd.read_csv('megaline_users.csv')\n",
    "except:\n",
    "    calls = pd.read_csv('../datasets/megaline_calls.csv') \n",
    "    data = pd.read_csv('../datasets/megaline_internet.csv')\n",
    "    messages = pd.read_csv('../datasets/megaline_messages.csv')\n",
    "    plans = pd.read_csv('../datasets/megaline_plans.csv')\n",
    "    users = pd.read_csv('../datasets/megaline_users.csv')"
   ]
  },
  {
   "cell_type": "code",
   "execution_count": 3,
   "metadata": {},
   "outputs": [],
   "source": [
    "# functions for some drawing on raw data\n",
    "\n",
    "def show_hist_chart(dataframe: pd.core.frame.DataFrame, column_name: str, table_name: str, bins: int = 10):\n",
    "    dataframe.plot(\n",
    "        kind='hist', y=column_name, bins=bins, fontsize=10, legend=None\n",
    "    )\n",
    "    beautify_column_name = column_name[0].upper() + column_name[1:].replace('_', ' ')\n",
    "    beautify_table_name = table_name[0].upper() + table_name[1:].replace('_', ' ')\n",
    "    plt.title(f'Number of {beautify_table_name} by {beautify_column_name}', fontsize=14)\n",
    "    plt.xlabel(f'{beautify_column_name}',  fontsize=12)\n",
    "    plt.show()"
   ]
  },
  {
   "cell_type": "code",
   "execution_count": 4,
   "metadata": {},
   "outputs": [
    {
     "data": {
      "text/html": [
       "<div>\n",
       "<style scoped>\n",
       "    .dataframe tbody tr th:only-of-type {\n",
       "        vertical-align: middle;\n",
       "    }\n",
       "\n",
       "    .dataframe tbody tr th {\n",
       "        vertical-align: top;\n",
       "    }\n",
       "\n",
       "    .dataframe thead th {\n",
       "        text-align: right;\n",
       "    }\n",
       "</style>\n",
       "<table border=\"1\" class=\"dataframe\">\n",
       "  <thead>\n",
       "    <tr style=\"text-align: right;\">\n",
       "      <th></th>\n",
       "      <th>messages_included</th>\n",
       "      <th>mb_per_month_included</th>\n",
       "      <th>minutes_included</th>\n",
       "      <th>usd_monthly_pay</th>\n",
       "      <th>usd_per_gb</th>\n",
       "      <th>usd_per_message</th>\n",
       "      <th>usd_per_minute</th>\n",
       "      <th>plan_name</th>\n",
       "    </tr>\n",
       "  </thead>\n",
       "  <tbody>\n",
       "    <tr>\n",
       "      <th>0</th>\n",
       "      <td>50</td>\n",
       "      <td>15360</td>\n",
       "      <td>500</td>\n",
       "      <td>20</td>\n",
       "      <td>10</td>\n",
       "      <td>0.03</td>\n",
       "      <td>0.03</td>\n",
       "      <td>surf</td>\n",
       "    </tr>\n",
       "    <tr>\n",
       "      <th>1</th>\n",
       "      <td>1000</td>\n",
       "      <td>30720</td>\n",
       "      <td>3000</td>\n",
       "      <td>70</td>\n",
       "      <td>7</td>\n",
       "      <td>0.01</td>\n",
       "      <td>0.01</td>\n",
       "      <td>ultimate</td>\n",
       "    </tr>\n",
       "  </tbody>\n",
       "</table>\n",
       "</div>"
      ],
      "text/plain": [
       "   messages_included  mb_per_month_included  minutes_included  \\\n",
       "0                 50                  15360               500   \n",
       "1               1000                  30720              3000   \n",
       "\n",
       "   usd_monthly_pay  usd_per_gb  usd_per_message  usd_per_minute plan_name  \n",
       "0               20          10             0.03            0.03      surf  \n",
       "1               70           7             0.01            0.01  ultimate  "
      ]
     },
     "metadata": {},
     "output_type": "display_data"
    }
   ],
   "source": [
    "display(plans.head())"
   ]
  },
  {
   "cell_type": "markdown",
   "metadata": {},
   "source": [
    "The 'plans' table contains monthly prices, allowance thresholds, and prices after exceeding limits. It doesn't need any cleaning."
   ]
  },
  {
   "cell_type": "code",
   "execution_count": 5,
   "metadata": {},
   "outputs": [
    {
     "name": "stdout",
     "output_type": "stream",
     "text": [
      "<class 'pandas.core.frame.DataFrame'>\n",
      "RangeIndex: 500 entries, 0 to 499\n",
      "Data columns (total 8 columns):\n",
      " #   Column      Non-Null Count  Dtype   \n",
      "---  ------      --------------  -----   \n",
      " 0   user_id     500 non-null    uint16  \n",
      " 1   first_name  500 non-null    object  \n",
      " 2   last_name   500 non-null    object  \n",
      " 3   age         500 non-null    uint8   \n",
      " 4   city        500 non-null    object  \n",
      " 5   reg_date    500 non-null    object  \n",
      " 6   plan        500 non-null    category\n",
      " 7   churn_date  34 non-null     object  \n",
      "dtypes: category(1), object(5), uint16(1), uint8(1)\n",
      "memory usage: 21.7+ KB\n"
     ]
    },
    {
     "data": {
      "text/html": [
       "<div>\n",
       "<style scoped>\n",
       "    .dataframe tbody tr th:only-of-type {\n",
       "        vertical-align: middle;\n",
       "    }\n",
       "\n",
       "    .dataframe tbody tr th {\n",
       "        vertical-align: top;\n",
       "    }\n",
       "\n",
       "    .dataframe thead th {\n",
       "        text-align: right;\n",
       "    }\n",
       "</style>\n",
       "<table border=\"1\" class=\"dataframe\">\n",
       "  <thead>\n",
       "    <tr style=\"text-align: right;\">\n",
       "      <th></th>\n",
       "      <th>missing</th>\n",
       "      <th>total</th>\n",
       "      <th>percent</th>\n",
       "    </tr>\n",
       "  </thead>\n",
       "  <tbody>\n",
       "    <tr>\n",
       "      <th>churn_date</th>\n",
       "      <td>466</td>\n",
       "      <td>500</td>\n",
       "      <td>93.2</td>\n",
       "    </tr>\n",
       "  </tbody>\n",
       "</table>\n",
       "</div>"
      ],
      "text/plain": [
       "            missing  total  percent\n",
       "churn_date      466    500     93.2"
      ]
     },
     "metadata": {},
     "output_type": "display_data"
    },
    {
     "data": {
      "text/html": [
       "<div>\n",
       "<style scoped>\n",
       "    .dataframe tbody tr th:only-of-type {\n",
       "        vertical-align: middle;\n",
       "    }\n",
       "\n",
       "    .dataframe tbody tr th {\n",
       "        vertical-align: top;\n",
       "    }\n",
       "\n",
       "    .dataframe thead th {\n",
       "        text-align: right;\n",
       "    }\n",
       "</style>\n",
       "<table border=\"1\" class=\"dataframe\">\n",
       "  <thead>\n",
       "    <tr style=\"text-align: right;\">\n",
       "      <th></th>\n",
       "      <th>user_id</th>\n",
       "      <th>first_name</th>\n",
       "      <th>last_name</th>\n",
       "      <th>age</th>\n",
       "      <th>city</th>\n",
       "      <th>reg_date</th>\n",
       "      <th>plan</th>\n",
       "      <th>churn_date</th>\n",
       "    </tr>\n",
       "  </thead>\n",
       "  <tbody>\n",
       "    <tr>\n",
       "      <th>count</th>\n",
       "      <td>500.000000</td>\n",
       "      <td>500</td>\n",
       "      <td>500</td>\n",
       "      <td>500.000000</td>\n",
       "      <td>500</td>\n",
       "      <td>500</td>\n",
       "      <td>500</td>\n",
       "      <td>34</td>\n",
       "    </tr>\n",
       "    <tr>\n",
       "      <th>unique</th>\n",
       "      <td>NaN</td>\n",
       "      <td>458</td>\n",
       "      <td>399</td>\n",
       "      <td>NaN</td>\n",
       "      <td>73</td>\n",
       "      <td>266</td>\n",
       "      <td>2</td>\n",
       "      <td>29</td>\n",
       "    </tr>\n",
       "    <tr>\n",
       "      <th>top</th>\n",
       "      <td>NaN</td>\n",
       "      <td>Leonila</td>\n",
       "      <td>David</td>\n",
       "      <td>NaN</td>\n",
       "      <td>New York-Newark-Jersey City, NY-NJ-PA MSA</td>\n",
       "      <td>2018-03-08</td>\n",
       "      <td>surf</td>\n",
       "      <td>2018-12-18</td>\n",
       "    </tr>\n",
       "    <tr>\n",
       "      <th>freq</th>\n",
       "      <td>NaN</td>\n",
       "      <td>3</td>\n",
       "      <td>3</td>\n",
       "      <td>NaN</td>\n",
       "      <td>80</td>\n",
       "      <td>5</td>\n",
       "      <td>339</td>\n",
       "      <td>3</td>\n",
       "    </tr>\n",
       "    <tr>\n",
       "      <th>mean</th>\n",
       "      <td>1249.500000</td>\n",
       "      <td>NaN</td>\n",
       "      <td>NaN</td>\n",
       "      <td>45.486000</td>\n",
       "      <td>NaN</td>\n",
       "      <td>NaN</td>\n",
       "      <td>NaN</td>\n",
       "      <td>NaN</td>\n",
       "    </tr>\n",
       "    <tr>\n",
       "      <th>std</th>\n",
       "      <td>144.481833</td>\n",
       "      <td>NaN</td>\n",
       "      <td>NaN</td>\n",
       "      <td>16.972269</td>\n",
       "      <td>NaN</td>\n",
       "      <td>NaN</td>\n",
       "      <td>NaN</td>\n",
       "      <td>NaN</td>\n",
       "    </tr>\n",
       "    <tr>\n",
       "      <th>min</th>\n",
       "      <td>1000.000000</td>\n",
       "      <td>NaN</td>\n",
       "      <td>NaN</td>\n",
       "      <td>18.000000</td>\n",
       "      <td>NaN</td>\n",
       "      <td>NaN</td>\n",
       "      <td>NaN</td>\n",
       "      <td>NaN</td>\n",
       "    </tr>\n",
       "    <tr>\n",
       "      <th>25%</th>\n",
       "      <td>1124.750000</td>\n",
       "      <td>NaN</td>\n",
       "      <td>NaN</td>\n",
       "      <td>30.000000</td>\n",
       "      <td>NaN</td>\n",
       "      <td>NaN</td>\n",
       "      <td>NaN</td>\n",
       "      <td>NaN</td>\n",
       "    </tr>\n",
       "    <tr>\n",
       "      <th>50%</th>\n",
       "      <td>1249.500000</td>\n",
       "      <td>NaN</td>\n",
       "      <td>NaN</td>\n",
       "      <td>46.000000</td>\n",
       "      <td>NaN</td>\n",
       "      <td>NaN</td>\n",
       "      <td>NaN</td>\n",
       "      <td>NaN</td>\n",
       "    </tr>\n",
       "    <tr>\n",
       "      <th>75%</th>\n",
       "      <td>1374.250000</td>\n",
       "      <td>NaN</td>\n",
       "      <td>NaN</td>\n",
       "      <td>61.000000</td>\n",
       "      <td>NaN</td>\n",
       "      <td>NaN</td>\n",
       "      <td>NaN</td>\n",
       "      <td>NaN</td>\n",
       "    </tr>\n",
       "    <tr>\n",
       "      <th>max</th>\n",
       "      <td>1499.000000</td>\n",
       "      <td>NaN</td>\n",
       "      <td>NaN</td>\n",
       "      <td>75.000000</td>\n",
       "      <td>NaN</td>\n",
       "      <td>NaN</td>\n",
       "      <td>NaN</td>\n",
       "      <td>NaN</td>\n",
       "    </tr>\n",
       "  </tbody>\n",
       "</table>\n",
       "</div>"
      ],
      "text/plain": [
       "            user_id first_name last_name         age  \\\n",
       "count    500.000000        500       500  500.000000   \n",
       "unique          NaN        458       399         NaN   \n",
       "top             NaN    Leonila     David         NaN   \n",
       "freq            NaN          3         3         NaN   \n",
       "mean    1249.500000        NaN       NaN   45.486000   \n",
       "std      144.481833        NaN       NaN   16.972269   \n",
       "min     1000.000000        NaN       NaN   18.000000   \n",
       "25%     1124.750000        NaN       NaN   30.000000   \n",
       "50%     1249.500000        NaN       NaN   46.000000   \n",
       "75%     1374.250000        NaN       NaN   61.000000   \n",
       "max     1499.000000        NaN       NaN   75.000000   \n",
       "\n",
       "                                             city    reg_date  plan  \\\n",
       "count                                         500         500   500   \n",
       "unique                                         73         266     2   \n",
       "top     New York-Newark-Jersey City, NY-NJ-PA MSA  2018-03-08  surf   \n",
       "freq                                           80           5   339   \n",
       "mean                                          NaN         NaN   NaN   \n",
       "std                                           NaN         NaN   NaN   \n",
       "min                                           NaN         NaN   NaN   \n",
       "25%                                           NaN         NaN   NaN   \n",
       "50%                                           NaN         NaN   NaN   \n",
       "75%                                           NaN         NaN   NaN   \n",
       "max                                           NaN         NaN   NaN   \n",
       "\n",
       "        churn_date  \n",
       "count           34  \n",
       "unique          29  \n",
       "top     2018-12-18  \n",
       "freq             3  \n",
       "mean           NaN  \n",
       "std            NaN  \n",
       "min            NaN  \n",
       "25%            NaN  \n",
       "50%            NaN  \n",
       "75%            NaN  \n",
       "max            NaN  "
      ]
     },
     "metadata": {},
     "output_type": "display_data"
    },
    {
     "data": {
      "text/html": [
       "<div>\n",
       "<style scoped>\n",
       "    .dataframe tbody tr th:only-of-type {\n",
       "        vertical-align: middle;\n",
       "    }\n",
       "\n",
       "    .dataframe tbody tr th {\n",
       "        vertical-align: top;\n",
       "    }\n",
       "\n",
       "    .dataframe thead th {\n",
       "        text-align: right;\n",
       "    }\n",
       "</style>\n",
       "<table border=\"1\" class=\"dataframe\">\n",
       "  <thead>\n",
       "    <tr style=\"text-align: right;\">\n",
       "      <th></th>\n",
       "      <th>user_id</th>\n",
       "      <th>first_name</th>\n",
       "      <th>last_name</th>\n",
       "      <th>age</th>\n",
       "      <th>city</th>\n",
       "      <th>reg_date</th>\n",
       "      <th>plan</th>\n",
       "      <th>churn_date</th>\n",
       "    </tr>\n",
       "  </thead>\n",
       "  <tbody>\n",
       "    <tr>\n",
       "      <th>237</th>\n",
       "      <td>1237</td>\n",
       "      <td>Leighann</td>\n",
       "      <td>Wheeler</td>\n",
       "      <td>50</td>\n",
       "      <td>New York-Newark-Jersey City, NY-NJ-PA MSA</td>\n",
       "      <td>2018-08-26</td>\n",
       "      <td>ultimate</td>\n",
       "      <td>NaN</td>\n",
       "    </tr>\n",
       "    <tr>\n",
       "      <th>401</th>\n",
       "      <td>1401</td>\n",
       "      <td>Charmain</td>\n",
       "      <td>Bryant</td>\n",
       "      <td>67</td>\n",
       "      <td>Richmond, VA MSA</td>\n",
       "      <td>2018-08-24</td>\n",
       "      <td>ultimate</td>\n",
       "      <td>NaN</td>\n",
       "    </tr>\n",
       "    <tr>\n",
       "      <th>332</th>\n",
       "      <td>1332</td>\n",
       "      <td>Lucas</td>\n",
       "      <td>Saunders</td>\n",
       "      <td>37</td>\n",
       "      <td>Atlanta-Sandy Springs-Roswell, GA MSA</td>\n",
       "      <td>2018-03-12</td>\n",
       "      <td>surf</td>\n",
       "      <td>NaN</td>\n",
       "    </tr>\n",
       "    <tr>\n",
       "      <th>372</th>\n",
       "      <td>1372</td>\n",
       "      <td>Patria</td>\n",
       "      <td>Kim</td>\n",
       "      <td>26</td>\n",
       "      <td>New York-Newark-Jersey City, NY-NJ-PA MSA</td>\n",
       "      <td>2018-10-08</td>\n",
       "      <td>surf</td>\n",
       "      <td>NaN</td>\n",
       "    </tr>\n",
       "    <tr>\n",
       "      <th>305</th>\n",
       "      <td>1305</td>\n",
       "      <td>Gwenn</td>\n",
       "      <td>Gross</td>\n",
       "      <td>18</td>\n",
       "      <td>Los Angeles-Long Beach-Anaheim, CA MSA</td>\n",
       "      <td>2018-05-08</td>\n",
       "      <td>surf</td>\n",
       "      <td>NaN</td>\n",
       "    </tr>\n",
       "  </tbody>\n",
       "</table>\n",
       "</div>"
      ],
      "text/plain": [
       "     user_id first_name last_name  age  \\\n",
       "237     1237   Leighann   Wheeler   50   \n",
       "401     1401   Charmain    Bryant   67   \n",
       "332     1332      Lucas  Saunders   37   \n",
       "372     1372     Patria       Kim   26   \n",
       "305     1305      Gwenn     Gross   18   \n",
       "\n",
       "                                          city    reg_date      plan  \\\n",
       "237  New York-Newark-Jersey City, NY-NJ-PA MSA  2018-08-26  ultimate   \n",
       "401                           Richmond, VA MSA  2018-08-24  ultimate   \n",
       "332      Atlanta-Sandy Springs-Roswell, GA MSA  2018-03-12      surf   \n",
       "372  New York-Newark-Jersey City, NY-NJ-PA MSA  2018-10-08      surf   \n",
       "305     Los Angeles-Long Beach-Anaheim, CA MSA  2018-05-08      surf   \n",
       "\n",
       "    churn_date  \n",
       "237        NaN  \n",
       "401        NaN  \n",
       "332        NaN  \n",
       "372        NaN  \n",
       "305        NaN  "
      ]
     },
     "metadata": {},
     "output_type": "display_data"
    }
   ],
   "source": [
    "users['user_id'] = pd.to_numeric(users['user_id'], downcast='unsigned')\n",
    "users['age'] = pd.to_numeric(users['age'], downcast='unsigned')\n",
    "users['plan'] = users['plan'].astype('category')\n",
    "users.info()\n",
    "display(users.stb.missing(clip_0=True))\n",
    "display(users.describe(include='all'))\n",
    "display(users.sample(5))"
   ]
  },
  {
   "cell_type": "markdown",
   "metadata": {},
   "source": [
    "The 'users' table has 93.2% of missing values in 'churn_date'.  \n",
    "Both dates could be converted to datetime."
   ]
  },
  {
   "cell_type": "code",
   "execution_count": null,
   "metadata": {},
   "outputs": [
    {
     "name": "stdout",
     "output_type": "stream",
     "text": [
      "<class 'pandas.core.frame.DataFrame'>\n",
      "RangeIndex: 137735 entries, 0 to 137734\n",
      "Data columns (total 4 columns):\n",
      " #   Column     Non-Null Count   Dtype  \n",
      "---  ------     --------------   -----  \n",
      " 0   id         137735 non-null  object \n",
      " 1   user_id    137735 non-null  uint16 \n",
      " 2   call_date  137735 non-null  object \n",
      " 3   duration   137735 non-null  float32\n",
      "dtypes: float32(1), object(2), uint16(1)\n",
      "memory usage: 2.9+ MB\n"
     ]
    },
    {
     "data": {
      "text/html": [
       "<div>\n",
       "<style scoped>\n",
       "    .dataframe tbody tr th:only-of-type {\n",
       "        vertical-align: middle;\n",
       "    }\n",
       "\n",
       "    .dataframe tbody tr th {\n",
       "        vertical-align: top;\n",
       "    }\n",
       "\n",
       "    .dataframe thead th {\n",
       "        text-align: right;\n",
       "    }\n",
       "</style>\n",
       "<table border=\"1\" class=\"dataframe\">\n",
       "  <thead>\n",
       "    <tr style=\"text-align: right;\">\n",
       "      <th></th>\n",
       "      <th>id</th>\n",
       "      <th>user_id</th>\n",
       "      <th>call_date</th>\n",
       "      <th>duration</th>\n",
       "    </tr>\n",
       "  </thead>\n",
       "  <tbody>\n",
       "    <tr>\n",
       "      <th>count</th>\n",
       "      <td>137735</td>\n",
       "      <td>137735.000000</td>\n",
       "      <td>137735</td>\n",
       "      <td>137735.000000</td>\n",
       "    </tr>\n",
       "    <tr>\n",
       "      <th>unique</th>\n",
       "      <td>137735</td>\n",
       "      <td>NaN</td>\n",
       "      <td>351</td>\n",
       "      <td>NaN</td>\n",
       "    </tr>\n",
       "    <tr>\n",
       "      <th>top</th>\n",
       "      <td>1000_93</td>\n",
       "      <td>NaN</td>\n",
       "      <td>2018-12-27</td>\n",
       "      <td>NaN</td>\n",
       "    </tr>\n",
       "    <tr>\n",
       "      <th>freq</th>\n",
       "      <td>1</td>\n",
       "      <td>NaN</td>\n",
       "      <td>1091</td>\n",
       "      <td>NaN</td>\n",
       "    </tr>\n",
       "    <tr>\n",
       "      <th>mean</th>\n",
       "      <td>NaN</td>\n",
       "      <td>1247.658046</td>\n",
       "      <td>NaN</td>\n",
       "      <td>6.745927</td>\n",
       "    </tr>\n",
       "    <tr>\n",
       "      <th>std</th>\n",
       "      <td>NaN</td>\n",
       "      <td>139.416268</td>\n",
       "      <td>NaN</td>\n",
       "      <td>5.839241</td>\n",
       "    </tr>\n",
       "    <tr>\n",
       "      <th>min</th>\n",
       "      <td>NaN</td>\n",
       "      <td>1000.000000</td>\n",
       "      <td>NaN</td>\n",
       "      <td>0.000000</td>\n",
       "    </tr>\n",
       "    <tr>\n",
       "      <th>25%</th>\n",
       "      <td>NaN</td>\n",
       "      <td>1128.000000</td>\n",
       "      <td>NaN</td>\n",
       "      <td>1.290000</td>\n",
       "    </tr>\n",
       "    <tr>\n",
       "      <th>50%</th>\n",
       "      <td>NaN</td>\n",
       "      <td>1247.000000</td>\n",
       "      <td>NaN</td>\n",
       "      <td>5.980000</td>\n",
       "    </tr>\n",
       "    <tr>\n",
       "      <th>75%</th>\n",
       "      <td>NaN</td>\n",
       "      <td>1365.000000</td>\n",
       "      <td>NaN</td>\n",
       "      <td>10.690000</td>\n",
       "    </tr>\n",
       "    <tr>\n",
       "      <th>max</th>\n",
       "      <td>NaN</td>\n",
       "      <td>1499.000000</td>\n",
       "      <td>NaN</td>\n",
       "      <td>37.599998</td>\n",
       "    </tr>\n",
       "  </tbody>\n",
       "</table>\n",
       "</div>"
      ],
      "text/plain": [
       "             id        user_id   call_date       duration\n",
       "count    137735  137735.000000      137735  137735.000000\n",
       "unique   137735            NaN         351            NaN\n",
       "top     1000_93            NaN  2018-12-27            NaN\n",
       "freq          1            NaN        1091            NaN\n",
       "mean        NaN    1247.658046         NaN       6.745927\n",
       "std         NaN     139.416268         NaN       5.839241\n",
       "min         NaN    1000.000000         NaN       0.000000\n",
       "25%         NaN    1128.000000         NaN       1.290000\n",
       "50%         NaN    1247.000000         NaN       5.980000\n",
       "75%         NaN    1365.000000         NaN      10.690000\n",
       "max         NaN    1499.000000         NaN      37.599998"
      ]
     },
     "metadata": {},
     "output_type": "display_data"
    },
    {
     "data": {
      "text/html": [
       "<div>\n",
       "<style scoped>\n",
       "    .dataframe tbody tr th:only-of-type {\n",
       "        vertical-align: middle;\n",
       "    }\n",
       "\n",
       "    .dataframe tbody tr th {\n",
       "        vertical-align: top;\n",
       "    }\n",
       "\n",
       "    .dataframe thead th {\n",
       "        text-align: right;\n",
       "    }\n",
       "</style>\n",
       "<table border=\"1\" class=\"dataframe\">\n",
       "  <thead>\n",
       "    <tr style=\"text-align: right;\">\n",
       "      <th></th>\n",
       "      <th>id</th>\n",
       "      <th>user_id</th>\n",
       "      <th>call_date</th>\n",
       "      <th>duration</th>\n",
       "    </tr>\n",
       "  </thead>\n",
       "  <tbody>\n",
       "    <tr>\n",
       "      <th>70940</th>\n",
       "      <td>1252_356</td>\n",
       "      <td>1252</td>\n",
       "      <td>2018-08-03</td>\n",
       "      <td>7.59</td>\n",
       "    </tr>\n",
       "    <tr>\n",
       "      <th>22966</th>\n",
       "      <td>1084_13</td>\n",
       "      <td>1084</td>\n",
       "      <td>2018-12-28</td>\n",
       "      <td>0.00</td>\n",
       "    </tr>\n",
       "    <tr>\n",
       "      <th>35809</th>\n",
       "      <td>1134_131</td>\n",
       "      <td>1134</td>\n",
       "      <td>2018-10-23</td>\n",
       "      <td>1.77</td>\n",
       "    </tr>\n",
       "    <tr>\n",
       "      <th>93389</th>\n",
       "      <td>1334_757</td>\n",
       "      <td>1334</td>\n",
       "      <td>2018-04-20</td>\n",
       "      <td>0.16</td>\n",
       "    </tr>\n",
       "    <tr>\n",
       "      <th>8427</th>\n",
       "      <td>1039_367</td>\n",
       "      <td>1039</td>\n",
       "      <td>2018-09-19</td>\n",
       "      <td>0.00</td>\n",
       "    </tr>\n",
       "  </tbody>\n",
       "</table>\n",
       "</div>"
      ],
      "text/plain": [
       "             id  user_id   call_date  duration\n",
       "70940  1252_356     1252  2018-08-03      7.59\n",
       "22966   1084_13     1084  2018-12-28      0.00\n",
       "35809  1134_131     1134  2018-10-23      1.77\n",
       "93389  1334_757     1334  2018-04-20      0.16\n",
       "8427   1039_367     1039  2018-09-19      0.00"
      ]
     },
     "metadata": {},
     "output_type": "display_data"
    }
   ],
   "source": [
    "calls['user_id'] = pd.to_numeric(calls['user_id'], downcast='unsigned')\n",
    "calls['duration'] = pd.to_numeric(calls['duration'], downcast='float')\n",
    "calls.info()\n",
    "display(calls.describe(include='all'))\n",
    "display(calls.sample(5))\n",
    "show_hist_chart(calls, 'user_id', 'calls', bins=len(calls['user_id'].unique()))\n",
    "show_hist_chart(calls, 'duration', 'calls', bins=100)\n",
    "print('Zero durations: {:.1%}'.format(len(calls[calls['duration'] == 0]) / calls.shape[0]))"
   ]
  },
  {
   "cell_type": "markdown",
   "metadata": {},
   "source": [
    "The 'calls' table doesn't have any missing values but has 19.5% entries with zero duration.  \n",
    "The 'call_date' could be converted to datetime. "
   ]
  },
  {
   "cell_type": "code",
   "execution_count": null,
   "metadata": {},
   "outputs": [],
   "source": [
    "messages['user_id'] = pd.to_numeric(messages['user_id'], downcast='unsigned')\n",
    "messages.info()\n",
    "display(messages.sample(5))\n",
    "show_hist_chart(messages, 'user_id', 'messages', bins=len(messages['user_id'].unique()))"
   ]
  },
  {
   "cell_type": "markdown",
   "metadata": {},
   "source": [
    "The 'messages' table doesn't have any missing values.  \n",
    "The 'message_date' could be converted to datetime."
   ]
  },
  {
   "cell_type": "code",
   "execution_count": null,
   "metadata": {},
   "outputs": [],
   "source": [
    "data['user_id'] = pd.to_numeric(data['user_id'], downcast='unsigned')\n",
    "data['mb_used'] = pd.to_numeric(data['mb_used'], downcast='float')\n",
    "data.info()\n",
    "display(data.describe(include='all'))\n",
    "display(data.sample(5))\n",
    "show_hist_chart(data, 'user_id', 'data sessions', bins=len(data['user_id'].unique()))\n",
    "show_hist_chart(data, 'mb_used', 'data sessions', bins=100)\n",
    "print('Zero volume: {:.1%}'.format(len(data[data['mb_used'] == 0]) / data.shape[0]))"
   ]
  },
  {
   "cell_type": "markdown",
   "metadata": {},
   "source": [
    "The 'data' table doesn't have any missing values but has 13.1% of sessions with zero traffic volume.  \n",
    "The 'session_date' could be converted to datetime."
   ]
  },
  {
   "cell_type": "markdown",
   "metadata": {},
   "source": [
    "### Conclusion \n",
    "The only missing values in our dataset are in the 'users' table, showing those users who are still using our services. This data is irrelevant to our questions, and we could leave it.\n",
    "\n",
    "Also we should pay attention on zero values in 'calls'.'duration' (19.5%) and 'data'.'mb_used' (13.1%). These missed calls and empty sessions are useless for our current analysis. We could drop them or count them separately.\n",
    "\n",
    "Dates in 'users', 'calls', 'messages' and 'data' tables should be changed to datatime type."
   ]
  },
  {
   "cell_type": "markdown",
   "metadata": {},
   "source": [
    "## Data preprocessing"
   ]
  },
  {
   "cell_type": "code",
   "execution_count": null,
   "metadata": {},
   "outputs": [],
   "source": [
    "print('Duplicates in users: {0}, calls: {1}, messages: {2}, data: {2}'.format(users.duplicated().sum(),\n",
    "calls.duplicated().sum(), messages.duplicated().sum(), data.duplicated().sum()))"
   ]
  },
  {
   "cell_type": "code",
   "execution_count": null,
   "metadata": {},
   "outputs": [],
   "source": [
    "users['reg_date'] = pd.to_datetime(users['reg_date'], format='%Y-%m-%d') \n",
    "users['churn_date'] = pd.to_datetime(users['churn_date'], format='%Y-%m-%d') \n",
    "calls['call_date'] = pd.to_datetime(calls['call_date'], format='%Y-%m-%d') \n",
    "messages['message_date'] = pd.to_datetime(messages['message_date'], format='%Y-%m-%d') \n",
    "data['session_date'] = pd.to_datetime(data['session_date'], format='%Y-%m-%d') "
   ]
  },
  {
   "cell_type": "code",
   "execution_count": null,
   "metadata": {},
   "outputs": [],
   "source": [
    "# adding columns with month part of the date \n",
    "\n",
    "calls['month'] = calls['call_date'].dt.month\n",
    "messages['month'] = messages['message_date'].dt.month\n",
    "data['month'] = data['session_date'].dt.month"
   ]
  },
  {
   "cell_type": "code",
   "execution_count": null,
   "metadata": {},
   "outputs": [],
   "source": [
    "# calls should be rounded up individually, so ceiling their duration before adding \n",
    "calls['duration_ceiled'] = np.ceil(calls['duration'])\n",
    "\n",
    "# calculating monthly calls' durations, number of messages and traffic used for each user\n",
    "# also summing the number of zero calls and zero data sessions \n",
    "\n",
    "monthly_calls = calls[calls['duration'] != 0].pivot_table(index=['user_id','month'], values='duration_ceiled', aggfunc=['count', 'sum'])\n",
    "monthly_calls.columns = ['calls_number', 'minutes_used']\n",
    "\n",
    "zero_calls = calls[calls['duration'] == 0].pivot_table(index=['user_id','month'], values='duration_ceiled', aggfunc=['count'])\n",
    "zero_calls.columns = ['zero_calls_number']\n",
    "\n",
    "monthly_msg = messages.pivot_table(index=['user_id','month'], values='message_date', aggfunc=['count'])\n",
    "monthly_msg.columns = ['messages_number']\n",
    "\n",
    "monthly_data = data[data['mb_used'] != 0].pivot_table(index=['user_id','month'], values='mb_used', aggfunc=['sum'])\n",
    "monthly_data.columns = ['data_volume']\n",
    "monthly_data['data_volume_gb'] = monthly_data['data_volume'] / 1024\n",
    "\n",
    "zero_data = data[data['mb_used'] == 0].pivot_table(index=['user_id','month'], values='mb_used', aggfunc=['count'])\n",
    "zero_data.columns = ['zero_sessions_number']\n",
    "\n",
    "dfs = [monthly_calls, zero_calls, monthly_msg, monthly_data, zero_data]\n",
    "monthly_by_user = reduce(lambda  left,right: pd.merge(left,right,on=['user_id', 'month'], how='outer'), dfs)\n",
    "\n",
    "display(monthly_by_user.head(5))"
   ]
  },
  {
   "cell_type": "code",
   "execution_count": null,
   "metadata": {},
   "outputs": [],
   "source": [
    "print('Number of users in users table:', users.shape[0])\n",
    "print('Number of users in calls table:', len(calls['user_id'].unique()))\n",
    "print('Number of users in messages table:', len(messages['user_id'].unique()))\n",
    "print('Number of users in data table:', len(data['user_id'].unique()))\n",
    "print('Number of users in combined table:', len(monthly_by_user.index.unique(level=0)))\n",
    "active = monthly_by_user.index.unique(level=0)\n",
    "absent_users = users.query('user_id not in @active')\n",
    "display(absent_users)\n",
    "print('Checking if users from the user table that are now absent in combined were in calls, messages or data table...')\n",
    "for u in absent_users['user_id']:\n",
    "    if len(calls[calls['user_id'] == u]) or len(messages[messages['user_id'] == u]) or len(data[data['user_id'] == u]):\n",
    "        display(absent_users[absent_users['user_id'] == u])"
   ]
  },
  {
   "cell_type": "markdown",
   "metadata": {},
   "source": [
    "Our users express different patterns of behaviour. For example, some don't make calls, and others don't send messages or use any data. Also, 10 users didn't use any of our services this year, and 8 of them still didn't stop their contract."
   ]
  },
  {
   "cell_type": "code",
   "execution_count": null,
   "metadata": {},
   "outputs": [],
   "source": [
    "# merging user city and plan info for ease of future calculations \n",
    "\n",
    "monthly_by_user.reset_index(inplace=True)   \n",
    "monthly_by_user_w_users = pd.merge(monthly_by_user, users[['user_id','city','plan']], on='user_id', )\n",
    "monthly_by_user_w_plans = pd.merge(monthly_by_user_w_users, plans, left_on='plan', right_on='plan_name')"
   ]
  },
  {
   "cell_type": "code",
   "execution_count": null,
   "metadata": {},
   "outputs": [],
   "source": [
    "monthly_by_user_w_plans.info()"
   ]
  },
  {
   "cell_type": "code",
   "execution_count": null,
   "metadata": {},
   "outputs": [],
   "source": [
    "def revenue(row):\n",
    "    # monthly revenue from each user \n",
    "\n",
    "    extra_minutes = row['minutes_used'] - row['minutes_included'] if (row['minutes_used'] > row['minutes_included']) else 0\n",
    "    extra_msg = row['messages_number'] - row['messages_included'] if (row['messages_number'] > row['messages_included']) else 0\n",
    "    extra_data = row['data_volume'] - row['mb_per_month_included'] if (row['data_volume'] > row['mb_per_month_included']) else 0\n",
    "    \n",
    "    revenue = row['usd_monthly_pay']\n",
    "    revenue += extra_minutes * row['usd_per_minute']\n",
    "    revenue += extra_msg * row['usd_per_message']\n",
    "    revenue += np.ceil(extra_data / 1024) * row['usd_per_gb']\n",
    "\n",
    "    return revenue\n",
    "    \n",
    "monthly_by_user_w_plans['revenue'] = monthly_by_user_w_plans.apply(revenue,axis=1)\n",
    "monthly_by_user_w_plans.sample(5)"
   ]
  },
  {
   "cell_type": "code",
   "execution_count": null,
   "metadata": {},
   "outputs": [],
   "source": [
    "monthly_by_user_w_plans.sample(5)"
   ]
  },
  {
   "cell_type": "markdown",
   "metadata": {},
   "source": [
    "### Conclusion\n",
    "We don't have any duplicates in this data set, so nothing to drop here.\n",
    "\n",
    "All dates were converted to datetime.\n",
    "\n",
    "Here we have missing values in 'users'.'churn_date' that indicate active users. These dates have nothing to do with our questions in hand, so I left it.\n",
    "\n",
    "However, 'calls' and 'data' have a substantial amount of entries with zero 'duration' and 'mb_used', respectively. Leaving them would affect the means, so I decided to count their number separately.\n",
    "\n",
    "So I counted monthly calls' durations and quantities, zero calls number, number of messages, traffic volume and amount of zero data sessions for each user. Then, with this aggregated data, I counted the monthly revenue for each user."
   ]
  },
  {
   "cell_type": "markdown",
   "metadata": {},
   "source": [
    "## Analyze the data"
   ]
  },
  {
   "cell_type": "code",
   "execution_count": null,
   "metadata": {},
   "outputs": [],
   "source": [
    "def show_comparison_hists(dfs: dict, col_names: list, bins: int=100):\n",
    "    fig, axes = plt.subplots(len(col_names), 1, figsize=(10, 5*len(col_names)), squeeze=False)\n",
    "    fig.subplots_adjust(hspace=0.3)\n",
    "    for i, column in enumerate(col_names):\n",
    "        beautify_column = column[0].upper() + column[1:].replace('_', ' ')\n",
    "        for df_name, df in dfs.items():\n",
    "            axes[i, 0].hist(df[column], bins, alpha=0.5, label=df_name, density=True)\n",
    "        axes[i, 0].legend(prop={'size': 10})\n",
    "        axes[i, 0].set_title(f'Probability histogram of {beautify_column}', fontsize=14)\n",
    "        axes[i, 0].set_xlabel(f'{beautify_column}',  fontsize=12)\n",
    "        axes[i, 0].set_ylabel(f'Probability',  fontsize=12)\n",
    "    plt.show()\n",
    "    \n",
    "surf = monthly_by_user_w_plans[monthly_by_user_w_plans['plan'] == 'surf']\n",
    "ultimate = monthly_by_user_w_plans[monthly_by_user_w_plans['plan'] == 'ultimate']\n",
    "\n",
    "show_comparison_hists({'surf': surf, 'ultimate': ultimate}, \n",
    "                      ['minutes_used', 'messages_number', 'data_volume'], bins=100)\n",
    "\n",
    "display(surf[['minutes_used', 'messages_number', 'data_volume']].describe())\n",
    "print('Surf plan variances. minutes used: {0:.2f}, messages number: {1:.2f}, data volume: {2:.2f}'.format(\n",
    "    surf['minutes_used'].var(), surf['messages_number'].var(), surf['data_volume'].var()))\n",
    "print('')\n",
    "display(ultimate[['minutes_used', 'messages_number', 'data_volume']].describe())\n",
    "print('Ultimate plan variances. minutes used: {0:.2f}, messages number: {1:.2f}, data volume: {2:.2f}'.format(\n",
    "    ultimate['minutes_used'].var(), ultimate['messages_number'].var(), ultimate['data_volume'].var()))"
   ]
  },
  {
   "cell_type": "markdown",
   "metadata": {},
   "source": [
    "### Conclusion\n",
    "\n",
    "Here we could see that users of both plans don't differ much in their behaviour. \n",
    "\n",
    "The used minutes' distribution for the Surf plan has a mean of 437, a variance of 52482 and a deviation of 229.  \n",
    "The used minutes' distribution for the Ultimate plan has a mean of 435, a variance of 56388 and a deviation of 238.\n",
    "\n",
    "The messages distribution for the Surf plan has a mean of 40, a variance of 1091 and a deviation of 33.  \n",
    "The messages distribution for the Ultimate plan has a mean of 46, a variance of 1085 and a deviation of 33.\n",
    "\n",
    "The data volume distribution for the Surf plan has a mean of 16.32 Gb, a variance of 62168224 and a deviation of 7.7.  \n",
    "The data volume distribution for the Ultimate plan has a mean of 16.8 Gb, a variance of 61324848 and a deviation of 7.6."
   ]
  },
  {
   "cell_type": "markdown",
   "metadata": {},
   "source": [
    "## Test the hypotheses"
   ]
  },
  {
   "cell_type": "code",
   "execution_count": null,
   "metadata": {
    "scrolled": false
   },
   "outputs": [],
   "source": [
    "monthly_by_user_w_plans['plan_num'] = monthly_by_user_w_plans['plan'].replace(['surf','ultimate'], [1, 2])\n",
    "plans_corr = monthly_by_user_w_plans.loc[:,['minutes_used', 'messages_number', 'data_volume', 'revenue', 'plan_num']].corr()\n",
    "sns.heatmap(plans_corr, annot=True)\n",
    "plt.show()"
   ]
  },
  {
   "cell_type": "code",
   "execution_count": null,
   "metadata": {},
   "outputs": [],
   "source": [
    "show_comparison_hists({'surf': surf, 'ultimate': ultimate}, ['revenue'], bins=50)\n",
    "\n",
    "print('Surf plan average revenue: {0:.2f}'.format(surf['revenue'].mean()))\n",
    "print('Ultimate plan average revenue: {0:.2f}'.format(ultimate['revenue'].mean()))"
   ]
  },
  {
   "cell_type": "markdown",
   "metadata": {},
   "source": [
    "We would like to know if one of our plans brings greater revenue.   \n",
    "My null hypothesis would be that there is no statistically significant difference between the average revenue from users of Ultimate and Surf calling plans. The alternative hypothesis would be that there is a statistically significant difference. Suggesting that the Ultimate plan brings higher revenue, I choose to perform a one-sided test.  \n",
    "95% statistical significance level (alpha 0.05) would be enough for our task."
   ]
  },
  {
   "cell_type": "code",
   "execution_count": null,
   "metadata": {},
   "outputs": [],
   "source": [
    "alpha = 0.05\n",
    "# The small p-value suggests that the populations do not have equal variances.\n",
    "stat, p  = st.levene(surf['revenue'], ultimate['revenue']) \n",
    "equal_var = False if p < 0.05 else True\n",
    "\n",
    "results = st.ttest_ind(surf['revenue'], ultimate['revenue'], equal_var = equal_var)\n",
    "\n",
    "# H₀ they are equal\n",
    "if (results.pvalue / 2 < alpha) and (ultimate['revenue'].mean() > surf['revenue'].mean()):\n",
    "    print(\"Reject the null hypothesis that the plans revenue is equal. The Ultimate plan brings more average revenue.\")\n",
    "else:\n",
    "    print(\"Can't reject the null hypothesis that the plans revenue is equal.\") "
   ]
  },
  {
   "cell_type": "markdown",
   "metadata": {},
   "source": [
    "### Conclusion \n",
    "\n",
    "We don't see any linear correlation between the plan and its revenue. The average revenue from the Surf plan equals 60.7 and from the Ultimate plan 72.3. So I tested the hypothesis that the average revenue from the plans is equal and rejected it. There is a significant difference between average revenues, and the Ultimate plan brings more."
   ]
  },
  {
   "cell_type": "code",
   "execution_count": null,
   "metadata": {},
   "outputs": [],
   "source": [
    "monthly_by_user_w_plans['area_num'] = monthly_by_user_w_plans['city'].apply(lambda x: 1 if x == 'New York-Newark-Jersey City, NY-NJ-PA MSA' else 2)\n",
    "plans_corr = monthly_by_user_w_plans.loc[:,['minutes_used', 'messages_number', 'data_volume', 'revenue', 'area_num']].corr()\n",
    "sns.heatmap(plans_corr, annot=True)\n",
    "plt.show()"
   ]
  },
  {
   "cell_type": "code",
   "execution_count": null,
   "metadata": {},
   "outputs": [],
   "source": [
    "ny = monthly_by_user_w_plans[monthly_by_user_w_plans['city'] == 'New York-Newark-Jersey City, NY-NJ-PA MSA']\n",
    "others = monthly_by_user_w_plans[monthly_by_user_w_plans['city'] != 'New York-Newark-Jersey City, NY-NJ-PA MSA']\n",
    "\n",
    "show_comparison_hists({'NY-NJ': ny, 'other areas': others}, ['revenue'], bins=50)\n",
    "\n",
    "print('NY-NJ area average revenue: {0:.2f}'.format(ny['revenue'].mean()))\n",
    "print('Other areas average revenue: {0:.2f}'.format(others['revenue'].mean()))"
   ]
  },
  {
   "cell_type": "markdown",
   "metadata": {},
   "source": [
    "We would like to know if the average revenue of the users in NY-NJ area is different from that of the users in other regions.   \n",
    "My null hypothesis would be that their average revenue is equal, and the alternative hypothesis would be that they are not equal.   \n",
    "95% statistical significance level (alpha 0.05) would be enough for our task."
   ]
  },
  {
   "cell_type": "code",
   "execution_count": null,
   "metadata": {
    "scrolled": true
   },
   "outputs": [],
   "source": [
    "alpha = 0.05\n",
    "\n",
    "# The small p-value suggests that the populations do not have equal variances.\n",
    "stat, p  = st.levene(ny['revenue'], others['revenue']) \n",
    "equal_var = False if p < 0.05 else True\n",
    "results = st.ttest_ind(ny['revenue'], others['revenue'], equal_var = equal_var)\n",
    "\n",
    "# H₀ the average revenue is equal\n",
    "if results.pvalue < alpha:\n",
    "    print(\"Reject the null hypothesis that they are equal.\") # They are different\n",
    "else:\n",
    "    print(\"Can't reject the null hypothesis that they are equal.\") # Can't reject they are equal"
   ]
  },
  {
   "cell_type": "markdown",
   "metadata": {},
   "source": [
    "### Conclusion \n",
    "\n",
    "Comparing data from users in the NY-NJ area and other places, we don't see any linear correlation between the region and its revenue. The average revenue of the NY-NJ area equals 59.9 and of users in other regions 65.2. So I tested the hypothesis that the average revenues are equal and rejected it. The average revenue of the users in NY-NJ area is different from that of the users in other regions."
   ]
  },
  {
   "cell_type": "markdown",
   "metadata": {},
   "source": [
    "## Overall conclusion\n",
    "\n",
    "Here we have a small dataset on our users. After light preprocessing that consisted of changing datatypes and adding extra columns, I aggregated monthly usages of call minutes, messages, and data for each user. These sums let me calculate the users' monthly revenue.\n",
    "\n",
    "The distributions of used minutes, messages and data volumes don't differ much between users of different plans. Thus, both groups of customers behave similarly.\n",
    "\n",
    "I tested if the average revenues from the Ultimate and Surf plans are equal. The test showed a significant difference between average revenues, and the **Ultimate** plan brings in *more revenue*.\n",
    "\n",
    "Also, I compared the data from users in the NY-NJ area and all other places combined. The test showed a significant difference between average revenues in these areas."
   ]
  }
 ],
 "metadata": {
  "ExecuteTimeLog": [
   {
    "duration": 1064,
    "start_time": "2021-11-04T09:15:36.961Z"
   },
   {
    "duration": 435,
    "start_time": "2021-11-04T09:40:19.313Z"
   },
   {
    "duration": 6582,
    "start_time": "2021-11-04T09:41:38.454Z"
   },
   {
    "duration": 3,
    "start_time": "2021-11-04T09:42:14.089Z"
   },
   {
    "duration": 20,
    "start_time": "2021-11-04T09:44:06.157Z"
   },
   {
    "duration": 34,
    "start_time": "2021-11-04T09:44:47.970Z"
   },
   {
    "duration": 7,
    "start_time": "2021-11-04T09:45:10.422Z"
   },
   {
    "duration": 593,
    "start_time": "2021-11-04T09:47:10.888Z"
   },
   {
    "duration": 209,
    "start_time": "2021-11-04T09:47:22.536Z"
   },
   {
    "duration": 208,
    "start_time": "2021-11-04T09:47:34.505Z"
   },
   {
    "duration": 160,
    "start_time": "2021-11-04T09:47:42.525Z"
   },
   {
    "duration": 186,
    "start_time": "2021-11-04T09:49:25.752Z"
   },
   {
    "duration": 154,
    "start_time": "2021-11-04T09:49:43.316Z"
   },
   {
    "duration": 44,
    "start_time": "2021-11-04T10:01:06.745Z"
   },
   {
    "duration": 20,
    "start_time": "2021-11-04T10:05:43.141Z"
   },
   {
    "duration": 171,
    "start_time": "2021-11-04T10:06:07.917Z"
   },
   {
    "duration": 24,
    "start_time": "2021-11-04T10:06:30.317Z"
   },
   {
    "duration": 19,
    "start_time": "2021-11-04T10:06:53.026Z"
   },
   {
    "duration": 22,
    "start_time": "2021-11-04T10:07:10.505Z"
   },
   {
    "duration": 15,
    "start_time": "2021-11-04T10:10:46.609Z"
   },
   {
    "duration": 44,
    "start_time": "2021-11-04T10:14:28.628Z"
   },
   {
    "duration": 11,
    "start_time": "2021-11-04T10:15:28.301Z"
   },
   {
    "duration": 8,
    "start_time": "2021-11-04T10:17:39.464Z"
   },
   {
    "duration": 11,
    "start_time": "2021-11-04T10:17:57.642Z"
   },
   {
    "duration": 9,
    "start_time": "2021-11-04T10:18:43.945Z"
   },
   {
    "duration": 7,
    "start_time": "2021-11-04T10:25:04.242Z"
   },
   {
    "duration": 86,
    "start_time": "2021-11-04T10:27:54.819Z"
   },
   {
    "duration": 104,
    "start_time": "2021-11-04T10:29:39.190Z"
   },
   {
    "duration": 85,
    "start_time": "2021-11-04T10:29:54.624Z"
   },
   {
    "duration": 90,
    "start_time": "2021-11-04T10:31:44.561Z"
   },
   {
    "duration": 94,
    "start_time": "2021-11-04T10:31:51.873Z"
   },
   {
    "duration": 171,
    "start_time": "2021-11-04T10:32:17.680Z"
   },
   {
    "duration": 207,
    "start_time": "2021-11-04T10:32:33.496Z"
   },
   {
    "duration": 45,
    "start_time": "2021-11-04T10:32:39.295Z"
   },
   {
    "duration": 142,
    "start_time": "2021-11-04T10:33:25.562Z"
   },
   {
    "duration": 26,
    "start_time": "2021-11-04T10:35:03.197Z"
   },
   {
    "duration": 88,
    "start_time": "2021-11-04T10:37:10.467Z"
   },
   {
    "duration": 34,
    "start_time": "2021-11-04T10:37:13.103Z"
   },
   {
    "duration": 35,
    "start_time": "2021-11-04T10:37:33.958Z"
   },
   {
    "duration": 28,
    "start_time": "2021-11-04T10:37:39.754Z"
   },
   {
    "duration": 30,
    "start_time": "2021-11-04T10:39:08.846Z"
   },
   {
    "duration": 29,
    "start_time": "2021-11-04T10:39:14.404Z"
   },
   {
    "duration": 31,
    "start_time": "2021-11-04T10:40:17.928Z"
   },
   {
    "duration": 418,
    "start_time": "2021-11-04T10:41:29.082Z"
   },
   {
    "duration": 204,
    "start_time": "2021-11-04T10:42:32.252Z"
   },
   {
    "duration": 179,
    "start_time": "2021-11-04T10:42:56.369Z"
   },
   {
    "duration": 45,
    "start_time": "2021-11-04T10:43:05.889Z"
   },
   {
    "duration": 94,
    "start_time": "2021-11-04T10:43:20.908Z"
   },
   {
    "duration": 151,
    "start_time": "2021-11-04T10:43:26.109Z"
   },
   {
    "duration": 182,
    "start_time": "2021-11-04T10:44:23.395Z"
   },
   {
    "duration": 310,
    "start_time": "2021-11-04T10:44:31.727Z"
   },
   {
    "duration": 416,
    "start_time": "2021-11-04T10:45:15.676Z"
   },
   {
    "duration": 429,
    "start_time": "2021-11-04T10:45:31.372Z"
   },
   {
    "duration": 213,
    "start_time": "2021-11-04T10:47:43.181Z"
   },
   {
    "duration": 209,
    "start_time": "2021-11-04T10:47:51.168Z"
   },
   {
    "duration": 221,
    "start_time": "2021-11-04T10:48:12.934Z"
   },
   {
    "duration": 60,
    "start_time": "2021-11-04T10:48:45.029Z"
   },
   {
    "duration": 9,
    "start_time": "2021-11-04T12:11:24.542Z"
   },
   {
    "duration": 47,
    "start_time": "2021-11-04T12:11:30.806Z"
   },
   {
    "duration": 40,
    "start_time": "2021-11-04T12:11:35.404Z"
   },
   {
    "duration": 147,
    "start_time": "2021-11-04T12:12:01.448Z"
   },
   {
    "duration": 43,
    "start_time": "2021-11-04T12:12:47.737Z"
   },
   {
    "duration": 8,
    "start_time": "2021-11-04T12:13:23.375Z"
   },
   {
    "duration": 9,
    "start_time": "2021-11-04T12:13:34.414Z"
   },
   {
    "duration": 8,
    "start_time": "2021-11-04T12:14:54.454Z"
   },
   {
    "duration": 8,
    "start_time": "2021-11-04T12:14:56.876Z"
   },
   {
    "duration": 20,
    "start_time": "2021-11-04T12:17:12.149Z"
   },
   {
    "duration": 241,
    "start_time": "2021-11-04T12:17:23.787Z"
   },
   {
    "duration": 233,
    "start_time": "2021-11-04T12:17:55.982Z"
   },
   {
    "duration": 14,
    "start_time": "2021-11-04T12:18:08.761Z"
   },
   {
    "duration": 13,
    "start_time": "2021-11-04T12:18:23.186Z"
   },
   {
    "duration": 216,
    "start_time": "2021-11-04T12:18:34.284Z"
   },
   {
    "duration": 187,
    "start_time": "2021-11-04T12:18:36.753Z"
   },
   {
    "duration": 196,
    "start_time": "2021-11-04T12:20:01.228Z"
   },
   {
    "duration": 28,
    "start_time": "2021-11-04T12:20:11.177Z"
   },
   {
    "duration": 202,
    "start_time": "2021-11-04T12:20:22.717Z"
   },
   {
    "duration": 12,
    "start_time": "2021-11-04T12:20:32.839Z"
   },
   {
    "duration": 12,
    "start_time": "2021-11-04T12:21:52.692Z"
   },
   {
    "duration": 23,
    "start_time": "2021-11-04T12:24:59.401Z"
   },
   {
    "duration": 40,
    "start_time": "2021-11-04T12:25:42.116Z"
   },
   {
    "duration": 36,
    "start_time": "2021-11-04T12:25:49.362Z"
   },
   {
    "duration": 36,
    "start_time": "2021-11-04T12:26:38.828Z"
   },
   {
    "duration": 29,
    "start_time": "2021-11-04T12:29:12.703Z"
   },
   {
    "duration": 20,
    "start_time": "2021-11-04T12:30:06.887Z"
   },
   {
    "duration": 7,
    "start_time": "2021-11-04T12:30:22.607Z"
   },
   {
    "duration": 59,
    "start_time": "2021-11-04T12:32:20.217Z"
   },
   {
    "duration": 506,
    "start_time": "2021-11-04T12:32:35.216Z"
   },
   {
    "duration": 63,
    "start_time": "2021-11-04T12:32:47.839Z"
   },
   {
    "duration": 7,
    "start_time": "2021-11-04T12:32:50.321Z"
   },
   {
    "duration": 8,
    "start_time": "2021-11-04T12:32:56.282Z"
   },
   {
    "duration": 8,
    "start_time": "2021-11-04T12:33:00.007Z"
   },
   {
    "duration": 8,
    "start_time": "2021-11-04T12:33:03.699Z"
   },
   {
    "duration": 7,
    "start_time": "2021-11-04T12:33:08.482Z"
   },
   {
    "duration": 17,
    "start_time": "2021-11-04T12:38:00.820Z"
   },
   {
    "duration": 149,
    "start_time": "2021-11-04T12:38:59.469Z"
   },
   {
    "duration": 120,
    "start_time": "2021-11-04T12:40:59.332Z"
   },
   {
    "duration": 287,
    "start_time": "2021-11-04T13:10:46.369Z"
   },
   {
    "duration": 154,
    "start_time": "2021-11-04T13:10:51.606Z"
   },
   {
    "duration": 68,
    "start_time": "2021-11-04T13:11:58.559Z"
   },
   {
    "duration": 63,
    "start_time": "2021-11-04T13:12:16.132Z"
   },
   {
    "duration": 415,
    "start_time": "2021-11-04T13:12:22.142Z"
   },
   {
    "duration": 137,
    "start_time": "2021-11-04T13:12:25.585Z"
   },
   {
    "duration": 406,
    "start_time": "2021-11-04T13:12:41.446Z"
   },
   {
    "duration": 137,
    "start_time": "2021-11-04T13:12:45.436Z"
   },
   {
    "duration": 15,
    "start_time": "2021-11-04T13:14:06.080Z"
   },
   {
    "duration": 6,
    "start_time": "2021-11-04T13:14:20.330Z"
   },
   {
    "duration": 11,
    "start_time": "2021-11-04T13:14:28.426Z"
   },
   {
    "duration": 13,
    "start_time": "2021-11-04T13:14:49.448Z"
   },
   {
    "duration": 42,
    "start_time": "2021-11-04T13:15:08.305Z"
   },
   {
    "duration": 12,
    "start_time": "2021-11-04T13:15:10.845Z"
   },
   {
    "duration": 6,
    "start_time": "2021-11-04T13:15:22.420Z"
   },
   {
    "duration": 10,
    "start_time": "2021-11-04T13:15:46.134Z"
   },
   {
    "duration": 10,
    "start_time": "2021-11-04T13:15:49.982Z"
   },
   {
    "duration": 10,
    "start_time": "2021-11-04T13:16:04.883Z"
   },
   {
    "duration": 12,
    "start_time": "2021-11-04T13:16:12.215Z"
   },
   {
    "duration": 215,
    "start_time": "2021-11-04T13:31:00.016Z"
   },
   {
    "duration": 217,
    "start_time": "2021-11-04T13:31:05.308Z"
   },
   {
    "duration": 278,
    "start_time": "2021-11-04T13:31:07.593Z"
   },
   {
    "duration": 294,
    "start_time": "2021-11-04T13:31:14.043Z"
   },
   {
    "duration": 296,
    "start_time": "2021-11-04T13:31:21.492Z"
   },
   {
    "duration": 288,
    "start_time": "2021-11-04T13:31:25.432Z"
   },
   {
    "duration": 364,
    "start_time": "2021-11-04T13:34:22.492Z"
   },
   {
    "duration": 19,
    "start_time": "2021-11-04T13:44:16.313Z"
   },
   {
    "duration": 62,
    "start_time": "2021-11-04T13:46:40.466Z"
   },
   {
    "duration": 198,
    "start_time": "2021-11-04T13:46:54.167Z"
   },
   {
    "duration": 31,
    "start_time": "2021-11-04T13:46:57.917Z"
   },
   {
    "duration": 43,
    "start_time": "2021-11-04T13:48:08.743Z"
   },
   {
    "duration": 1020,
    "start_time": "2021-11-04T13:56:47.533Z"
   },
   {
    "duration": 992,
    "start_time": "2021-11-04T13:57:00.096Z"
   },
   {
    "duration": 2150,
    "start_time": "2021-11-04T13:58:07.456Z"
   },
   {
    "duration": 4,
    "start_time": "2021-11-04T13:58:09.608Z"
   },
   {
    "duration": 420,
    "start_time": "2021-11-04T13:58:09.615Z"
   },
   {
    "duration": 10,
    "start_time": "2021-11-04T13:58:10.037Z"
   },
   {
    "duration": 53,
    "start_time": "2021-11-04T13:58:10.049Z"
   },
   {
    "duration": 169,
    "start_time": "2021-11-04T13:58:10.104Z"
   },
   {
    "duration": 24,
    "start_time": "2021-11-04T13:58:10.274Z"
   },
   {
    "duration": 148,
    "start_time": "2021-11-04T13:58:10.300Z"
   },
   {
    "duration": 55,
    "start_time": "2021-11-04T13:58:10.450Z"
   },
   {
    "duration": 12,
    "start_time": "2021-11-04T13:58:18.218Z"
   },
   {
    "duration": 506,
    "start_time": "2021-11-04T13:58:21.530Z"
   },
   {
    "duration": 657,
    "start_time": "2021-11-04T13:58:24.607Z"
   },
   {
    "duration": 11,
    "start_time": "2021-11-04T14:00:56.166Z"
   },
   {
    "duration": 15,
    "start_time": "2021-11-04T14:06:00.478Z"
   },
   {
    "duration": 25,
    "start_time": "2021-11-04T14:07:53.657Z"
   },
   {
    "duration": 9,
    "start_time": "2021-11-04T14:08:41.922Z"
   },
   {
    "duration": 16,
    "start_time": "2021-11-04T14:09:17.308Z"
   },
   {
    "duration": 15,
    "start_time": "2021-11-04T14:10:04.040Z"
   },
   {
    "duration": 26,
    "start_time": "2021-11-04T14:10:08.045Z"
   },
   {
    "duration": 12,
    "start_time": "2021-11-04T14:10:17.129Z"
   },
   {
    "duration": 316,
    "start_time": "2021-11-04T14:11:23.151Z"
   },
   {
    "duration": 30,
    "start_time": "2021-11-04T14:11:33.473Z"
   },
   {
    "duration": 38,
    "start_time": "2021-11-04T14:11:39.174Z"
   },
   {
    "duration": 35,
    "start_time": "2021-11-04T14:13:31.458Z"
   },
   {
    "duration": 28,
    "start_time": "2021-11-04T14:14:26.052Z"
   },
   {
    "duration": 22,
    "start_time": "2021-11-04T14:14:45.351Z"
   },
   {
    "duration": 22,
    "start_time": "2021-11-04T14:14:49.882Z"
   },
   {
    "duration": 16,
    "start_time": "2021-11-04T14:15:10.135Z"
   },
   {
    "duration": 24,
    "start_time": "2021-11-04T14:16:27.069Z"
   },
   {
    "duration": 3,
    "start_time": "2021-11-04T14:24:38.353Z"
   },
   {
    "duration": 19,
    "start_time": "2021-11-04T14:26:14.944Z"
   },
   {
    "duration": 19,
    "start_time": "2021-11-04T14:26:40.224Z"
   },
   {
    "duration": 28,
    "start_time": "2021-11-04T14:26:50.097Z"
   },
   {
    "duration": 15,
    "start_time": "2021-11-04T14:36:46.176Z"
   },
   {
    "duration": 46,
    "start_time": "2021-11-04T14:37:36.663Z"
   },
   {
    "duration": 25,
    "start_time": "2021-11-04T14:37:38.776Z"
   },
   {
    "duration": 44,
    "start_time": "2021-11-04T14:38:18.618Z"
   },
   {
    "duration": 67,
    "start_time": "2021-11-04T14:39:23.151Z"
   },
   {
    "duration": 67,
    "start_time": "2021-11-04T14:45:58.916Z"
   },
   {
    "duration": 60,
    "start_time": "2021-11-04T14:55:44.999Z"
   },
   {
    "duration": 16,
    "start_time": "2021-11-04T14:55:48.047Z"
   },
   {
    "duration": 45,
    "start_time": "2021-11-04T14:56:20.696Z"
   },
   {
    "duration": 21,
    "start_time": "2021-11-04T14:56:26.139Z"
   },
   {
    "duration": 17,
    "start_time": "2021-11-04T14:56:27.892Z"
   },
   {
    "duration": 6,
    "start_time": "2021-11-04T14:56:50.191Z"
   },
   {
    "duration": 18,
    "start_time": "2021-11-04T14:56:52.231Z"
   },
   {
    "duration": 6,
    "start_time": "2021-11-04T14:57:00.364Z"
   },
   {
    "duration": 17,
    "start_time": "2021-11-04T14:57:01.859Z"
   },
   {
    "duration": 7,
    "start_time": "2021-11-04T14:57:13.126Z"
   },
   {
    "duration": 134,
    "start_time": "2021-11-04T14:57:14.657Z"
   },
   {
    "duration": 6,
    "start_time": "2021-11-04T14:57:19.553Z"
   },
   {
    "duration": 141,
    "start_time": "2021-11-04T14:57:21.364Z"
   },
   {
    "duration": 2173,
    "start_time": "2021-11-04T14:57:44.908Z"
   },
   {
    "duration": 1157,
    "start_time": "2021-11-04T14:57:47.083Z"
   },
   {
    "duration": 344,
    "start_time": "2021-11-04T14:57:48.242Z"
   },
   {
    "duration": 11,
    "start_time": "2021-11-04T14:57:48.588Z"
   },
   {
    "duration": 44,
    "start_time": "2021-11-04T14:57:48.601Z"
   },
   {
    "duration": 163,
    "start_time": "2021-11-04T14:57:48.646Z"
   },
   {
    "duration": 18,
    "start_time": "2021-11-04T14:57:48.810Z"
   },
   {
    "duration": 132,
    "start_time": "2021-11-04T14:57:48.830Z"
   },
   {
    "duration": 59,
    "start_time": "2021-11-04T14:57:48.964Z"
   },
   {
    "duration": 704,
    "start_time": "2021-11-04T14:57:49.025Z"
   },
   {
    "duration": 596,
    "start_time": "2021-11-04T14:57:49.731Z"
   },
   {
    "duration": 31,
    "start_time": "2021-11-04T14:57:50.329Z"
   },
   {
    "duration": 4,
    "start_time": "2021-11-04T14:57:50.361Z"
   },
   {
    "duration": 63,
    "start_time": "2021-11-04T14:57:50.367Z"
   },
   {
    "duration": 17,
    "start_time": "2021-11-04T14:57:50.431Z"
   },
   {
    "duration": 236,
    "start_time": "2021-11-04T14:57:50.449Z"
   },
   {
    "duration": 2052,
    "start_time": "2021-11-04T14:58:26.615Z"
   },
   {
    "duration": 1168,
    "start_time": "2021-11-04T14:58:28.669Z"
   },
   {
    "duration": 349,
    "start_time": "2021-11-04T14:58:29.839Z"
   },
   {
    "duration": 13,
    "start_time": "2021-11-04T14:58:30.189Z"
   },
   {
    "duration": 47,
    "start_time": "2021-11-04T14:58:30.203Z"
   },
   {
    "duration": 148,
    "start_time": "2021-11-04T14:58:30.251Z"
   },
   {
    "duration": 19,
    "start_time": "2021-11-04T14:58:30.400Z"
   },
   {
    "duration": 119,
    "start_time": "2021-11-04T14:58:30.421Z"
   },
   {
    "duration": 55,
    "start_time": "2021-11-04T14:58:30.541Z"
   },
   {
    "duration": 728,
    "start_time": "2021-11-04T14:58:30.598Z"
   },
   {
    "duration": 567,
    "start_time": "2021-11-04T14:58:31.327Z"
   },
   {
    "duration": 30,
    "start_time": "2021-11-04T14:58:31.895Z"
   },
   {
    "duration": 3,
    "start_time": "2021-11-04T14:58:31.927Z"
   },
   {
    "duration": 61,
    "start_time": "2021-11-04T14:58:31.932Z"
   },
   {
    "duration": 15,
    "start_time": "2021-11-04T14:58:31.995Z"
   },
   {
    "duration": 16,
    "start_time": "2021-11-04T14:58:32.012Z"
   },
   {
    "duration": 6,
    "start_time": "2021-11-04T14:59:13.300Z"
   },
   {
    "duration": 14,
    "start_time": "2021-11-04T14:59:17.545Z"
   },
   {
    "duration": 17,
    "start_time": "2021-11-04T14:59:28.623Z"
   },
   {
    "duration": 61,
    "start_time": "2021-11-04T15:00:08.914Z"
   },
   {
    "duration": 2194,
    "start_time": "2021-11-05T08:51:01.808Z"
   },
   {
    "duration": 9021,
    "start_time": "2021-11-05T08:51:05.911Z"
   },
   {
    "duration": 5,
    "start_time": "2021-11-05T08:51:14.934Z"
   },
   {
    "duration": 3354,
    "start_time": "2021-11-05T08:58:08.507Z"
   },
   {
    "duration": 4,
    "start_time": "2021-11-05T08:58:11.863Z"
   },
   {
    "duration": 550,
    "start_time": "2021-11-05T08:58:11.868Z"
   },
   {
    "duration": 13,
    "start_time": "2021-11-05T08:58:12.420Z"
   },
   {
    "duration": 60,
    "start_time": "2021-11-05T08:58:12.435Z"
   },
   {
    "duration": 227,
    "start_time": "2021-11-05T08:58:12.497Z"
   },
   {
    "duration": 18,
    "start_time": "2021-11-05T08:58:12.726Z"
   },
   {
    "duration": 178,
    "start_time": "2021-11-05T08:58:12.746Z"
   },
   {
    "duration": 48,
    "start_time": "2021-11-05T08:58:12.926Z"
   },
   {
    "duration": 14,
    "start_time": "2021-11-05T08:58:59.380Z"
   },
   {
    "duration": 1536,
    "start_time": "2021-11-05T08:59:43.858Z"
   },
   {
    "duration": 718,
    "start_time": "2021-11-05T08:59:59.891Z"
   },
   {
    "duration": 1364,
    "start_time": "2021-11-05T09:00:16.607Z"
   },
   {
    "duration": 342,
    "start_time": "2021-11-05T09:02:05.581Z"
   },
   {
    "duration": 5,
    "start_time": "2021-11-05T09:02:14.286Z"
   },
   {
    "duration": 1417,
    "start_time": "2021-11-05T09:02:19.334Z"
   },
   {
    "duration": 2629,
    "start_time": "2021-11-05T09:03:13.453Z"
   },
   {
    "duration": 4,
    "start_time": "2021-11-05T09:03:16.085Z"
   },
   {
    "duration": 557,
    "start_time": "2021-11-05T09:03:16.091Z"
   },
   {
    "duration": 10,
    "start_time": "2021-11-05T09:03:16.650Z"
   },
   {
    "duration": 67,
    "start_time": "2021-11-05T09:03:16.662Z"
   },
   {
    "duration": 205,
    "start_time": "2021-11-05T09:03:16.731Z"
   },
   {
    "duration": 18,
    "start_time": "2021-11-05T09:03:16.937Z"
   },
   {
    "duration": 174,
    "start_time": "2021-11-05T09:03:16.957Z"
   },
   {
    "duration": 4,
    "start_time": "2021-11-05T09:03:17.134Z"
   },
   {
    "duration": 1577,
    "start_time": "2021-11-05T09:03:22.190Z"
   },
   {
    "duration": 1669,
    "start_time": "2021-11-05T09:09:38.156Z"
   },
   {
    "duration": 6107,
    "start_time": "2021-11-05T09:09:46.906Z"
   },
   {
    "duration": 5839,
    "start_time": "2021-11-05T09:10:13.097Z"
   },
   {
    "duration": 6029,
    "start_time": "2021-11-05T09:10:39.945Z"
   },
   {
    "duration": 5900,
    "start_time": "2021-11-05T09:10:56.268Z"
   },
   {
    "duration": 5821,
    "start_time": "2021-11-05T09:11:33.059Z"
   },
   {
    "duration": 6058,
    "start_time": "2021-11-05T09:15:02.207Z"
   },
   {
    "duration": 5756,
    "start_time": "2021-11-05T09:16:01.104Z"
   },
   {
    "duration": 6032,
    "start_time": "2021-11-05T09:16:34.589Z"
   },
   {
    "duration": 13,
    "start_time": "2021-11-05T09:17:54.027Z"
   },
   {
    "duration": 14,
    "start_time": "2021-11-05T09:18:25.025Z"
   },
   {
    "duration": 3848,
    "start_time": "2021-11-05T09:18:57.408Z"
   },
   {
    "duration": 7680,
    "start_time": "2021-11-05T09:29:03.541Z"
   },
   {
    "duration": 14,
    "start_time": "2021-11-05T09:29:34.061Z"
   },
   {
    "duration": 3,
    "start_time": "2021-11-05T09:30:57.310Z"
   },
   {
    "duration": 7220,
    "start_time": "2021-11-05T09:33:18.300Z"
   },
   {
    "duration": 143,
    "start_time": "2021-11-05T09:36:02.118Z"
   },
   {
    "duration": 349,
    "start_time": "2021-11-05T09:36:07.171Z"
   },
   {
    "duration": 3853,
    "start_time": "2021-11-05T09:37:06.313Z"
   },
   {
    "duration": 46,
    "start_time": "2021-11-05T09:39:41.095Z"
   },
   {
    "duration": 4045,
    "start_time": "2021-11-05T09:39:45.977Z"
   },
   {
    "duration": 5,
    "start_time": "2021-11-05T09:41:43.747Z"
   },
   {
    "duration": 1733,
    "start_time": "2021-11-05T09:42:01.766Z"
   },
   {
    "duration": 1023,
    "start_time": "2021-11-05T09:42:34.643Z"
   },
   {
    "duration": 1487,
    "start_time": "2021-11-05T09:43:00.087Z"
   },
   {
    "duration": 16,
    "start_time": "2021-11-05T09:47:13.593Z"
   },
   {
    "duration": 7,
    "start_time": "2021-11-05T09:47:20.478Z"
   },
   {
    "duration": 353,
    "start_time": "2021-11-05T09:48:23.848Z"
   },
   {
    "duration": 4,
    "start_time": "2021-11-05T09:48:28.974Z"
   },
   {
    "duration": 968,
    "start_time": "2021-11-05T09:48:36.424Z"
   },
   {
    "duration": 1912,
    "start_time": "2021-11-05T09:48:49.139Z"
   },
   {
    "duration": 2088,
    "start_time": "2021-11-05T09:49:26.678Z"
   },
   {
    "duration": 836,
    "start_time": "2021-11-05T09:49:52.465Z"
   },
   {
    "duration": 1570,
    "start_time": "2021-11-05T09:50:22.965Z"
   },
   {
    "duration": 1569,
    "start_time": "2021-11-05T09:50:43.344Z"
   },
   {
    "duration": 318,
    "start_time": "2021-11-05T09:51:36.952Z"
   },
   {
    "duration": 318,
    "start_time": "2021-11-05T09:52:15.838Z"
   },
   {
    "duration": 321,
    "start_time": "2021-11-05T09:52:25.787Z"
   },
   {
    "duration": 315,
    "start_time": "2021-11-05T09:52:28.537Z"
   },
   {
    "duration": 785,
    "start_time": "2021-11-05T09:53:18.325Z"
   },
   {
    "duration": 454,
    "start_time": "2021-11-05T09:53:32.901Z"
   },
   {
    "duration": 53,
    "start_time": "2021-11-05T10:00:42.208Z"
   },
   {
    "duration": 3,
    "start_time": "2021-11-05T10:08:34.676Z"
   },
   {
    "duration": 37,
    "start_time": "2021-11-05T10:09:20.034Z"
   },
   {
    "duration": 2881,
    "start_time": "2021-11-05T10:11:34.196Z"
   },
   {
    "duration": 3,
    "start_time": "2021-11-05T10:11:37.080Z"
   },
   {
    "duration": 556,
    "start_time": "2021-11-05T10:11:37.085Z"
   },
   {
    "duration": 4,
    "start_time": "2021-11-05T10:11:37.643Z"
   },
   {
    "duration": 17,
    "start_time": "2021-11-05T10:11:37.649Z"
   },
   {
    "duration": 63,
    "start_time": "2021-11-05T10:11:37.667Z"
   },
   {
    "duration": 1558,
    "start_time": "2021-11-05T10:11:37.732Z"
   },
   {
    "duration": 976,
    "start_time": "2021-11-05T10:11:39.292Z"
   },
   {
    "duration": 1655,
    "start_time": "2021-11-05T10:11:40.270Z"
   },
   {
    "duration": 47,
    "start_time": "2021-11-05T10:11:41.926Z"
   },
   {
    "duration": 3,
    "start_time": "2021-11-05T10:11:41.974Z"
   },
   {
    "duration": 56,
    "start_time": "2021-11-05T10:11:41.978Z"
   },
   {
    "duration": 79,
    "start_time": "2021-11-05T10:12:26.802Z"
   },
   {
    "duration": 65,
    "start_time": "2021-11-05T10:13:18.875Z"
   },
   {
    "duration": 109,
    "start_time": "2021-11-05T10:15:59.915Z"
   },
   {
    "duration": 127,
    "start_time": "2021-11-05T10:16:46.805Z"
   },
   {
    "duration": 141,
    "start_time": "2021-11-05T10:17:14.781Z"
   },
   {
    "duration": 137,
    "start_time": "2021-11-05T10:17:28.926Z"
   },
   {
    "duration": 9,
    "start_time": "2021-11-05T11:21:24.057Z"
   },
   {
    "duration": 471,
    "start_time": "2021-11-05T11:34:39.528Z"
   },
   {
    "duration": 134,
    "start_time": "2021-11-05T11:34:42.663Z"
   },
   {
    "duration": 207,
    "start_time": "2021-11-05T11:34:59.532Z"
   },
   {
    "duration": 19,
    "start_time": "2021-11-05T11:42:13.663Z"
   },
   {
    "duration": 11,
    "start_time": "2021-11-05T11:43:45.321Z"
   },
   {
    "duration": 7,
    "start_time": "2021-11-05T11:46:49.036Z"
   },
   {
    "duration": 272,
    "start_time": "2021-11-05T11:49:08.678Z"
   },
   {
    "duration": 650,
    "start_time": "2021-11-05T11:49:47.041Z"
   },
   {
    "duration": 641,
    "start_time": "2021-11-05T11:50:13.884Z"
   },
   {
    "duration": 634,
    "start_time": "2021-11-05T11:50:54.283Z"
   },
   {
    "duration": 8933,
    "start_time": "2021-11-05T11:52:03.298Z"
   },
   {
    "duration": 703,
    "start_time": "2021-11-05T11:53:07.164Z"
   },
   {
    "duration": 604,
    "start_time": "2021-11-05T11:53:41.154Z"
   },
   {
    "duration": 551,
    "start_time": "2021-11-05T11:54:29.871Z"
   },
   {
    "duration": 24,
    "start_time": "2021-11-05T12:07:18.696Z"
   },
   {
    "duration": 3,
    "start_time": "2021-11-05T12:10:58.935Z"
   },
   {
    "duration": 378,
    "start_time": "2021-11-05T12:11:01.585Z"
   },
   {
    "duration": 3,
    "start_time": "2021-11-05T12:11:12.940Z"
   },
   {
    "duration": 9232,
    "start_time": "2021-11-05T12:11:16.074Z"
   },
   {
    "duration": 37,
    "start_time": "2021-11-05T12:12:01.023Z"
   },
   {
    "duration": 3,
    "start_time": "2021-11-05T12:12:21.653Z"
   },
   {
    "duration": 10476,
    "start_time": "2021-11-05T12:12:37.012Z"
   },
   {
    "duration": 8216,
    "start_time": "2021-11-05T12:13:53.824Z"
   },
   {
    "duration": 7719,
    "start_time": "2021-11-05T12:15:08.720Z"
   },
   {
    "duration": 9781,
    "start_time": "2021-11-05T12:15:35.555Z"
   },
   {
    "duration": 125,
    "start_time": "2021-11-05T12:16:23.764Z"
   },
   {
    "duration": 1669,
    "start_time": "2021-11-05T12:16:27.644Z"
   },
   {
    "duration": 9087,
    "start_time": "2021-11-05T12:17:10.318Z"
   },
   {
    "duration": 1520,
    "start_time": "2021-11-05T12:17:39.542Z"
   },
   {
    "duration": 23,
    "start_time": "2021-11-05T12:19:06.154Z"
   },
   {
    "duration": 1149,
    "start_time": "2021-11-05T12:22:20.469Z"
   },
   {
    "duration": 1165,
    "start_time": "2021-11-05T12:22:52.891Z"
   },
   {
    "duration": 352,
    "start_time": "2021-11-05T12:23:24.165Z"
   },
   {
    "duration": 357,
    "start_time": "2021-11-05T12:23:59.977Z"
   },
   {
    "duration": 351,
    "start_time": "2021-11-05T12:24:20.002Z"
   },
   {
    "duration": 362,
    "start_time": "2021-11-05T12:24:47.872Z"
   },
   {
    "duration": 2761,
    "start_time": "2021-11-05T12:25:13.683Z"
   },
   {
    "duration": 3,
    "start_time": "2021-11-05T12:25:16.446Z"
   },
   {
    "duration": 612,
    "start_time": "2021-11-05T12:25:16.451Z"
   },
   {
    "duration": 4,
    "start_time": "2021-11-05T12:25:17.065Z"
   },
   {
    "duration": 20,
    "start_time": "2021-11-05T12:25:17.071Z"
   },
   {
    "duration": 65,
    "start_time": "2021-11-05T12:25:17.093Z"
   },
   {
    "duration": 1661,
    "start_time": "2021-11-05T12:25:17.159Z"
   },
   {
    "duration": 866,
    "start_time": "2021-11-05T12:25:18.824Z"
   },
   {
    "duration": 1644,
    "start_time": "2021-11-05T12:25:19.692Z"
   },
   {
    "duration": 49,
    "start_time": "2021-11-05T12:25:21.338Z"
   },
   {
    "duration": 19,
    "start_time": "2021-11-05T12:25:21.389Z"
   },
   {
    "duration": 47,
    "start_time": "2021-11-05T12:25:21.410Z"
   },
   {
    "duration": 149,
    "start_time": "2021-11-05T12:25:21.459Z"
   },
   {
    "duration": 657,
    "start_time": "2021-11-05T12:25:21.610Z"
   },
   {
    "duration": 39,
    "start_time": "2021-11-05T12:25:22.269Z"
   },
   {
    "duration": 9984,
    "start_time": "2021-11-05T12:25:38.054Z"
   },
   {
    "duration": 649,
    "start_time": "2021-11-05T12:26:01.427Z"
   },
   {
    "duration": 119,
    "start_time": "2021-11-05T12:26:38.713Z"
   },
   {
    "duration": 575,
    "start_time": "2021-11-05T12:26:44.062Z"
   },
   {
    "duration": 455,
    "start_time": "2021-11-05T12:27:25.318Z"
   },
   {
    "duration": 349,
    "start_time": "2021-11-05T12:27:42.612Z"
   },
   {
    "duration": 2853,
    "start_time": "2021-11-05T12:28:14.597Z"
   },
   {
    "duration": 4,
    "start_time": "2021-11-05T12:28:17.452Z"
   },
   {
    "duration": 549,
    "start_time": "2021-11-05T12:28:17.458Z"
   },
   {
    "duration": 5,
    "start_time": "2021-11-05T12:28:18.010Z"
   },
   {
    "duration": 16,
    "start_time": "2021-11-05T12:28:18.017Z"
   },
   {
    "duration": 55,
    "start_time": "2021-11-05T12:28:18.035Z"
   },
   {
    "duration": 1573,
    "start_time": "2021-11-05T12:28:18.107Z"
   },
   {
    "duration": 983,
    "start_time": "2021-11-05T12:28:19.682Z"
   },
   {
    "duration": 1645,
    "start_time": "2021-11-05T12:28:20.667Z"
   },
   {
    "duration": 48,
    "start_time": "2021-11-05T12:28:22.314Z"
   },
   {
    "duration": 2,
    "start_time": "2021-11-05T12:28:22.364Z"
   },
   {
    "duration": 57,
    "start_time": "2021-11-05T12:28:22.368Z"
   },
   {
    "duration": 142,
    "start_time": "2021-11-05T12:28:22.426Z"
   },
   {
    "duration": 546,
    "start_time": "2021-11-05T12:28:22.570Z"
   },
   {
    "duration": 24,
    "start_time": "2021-11-05T12:28:23.118Z"
   },
   {
    "duration": 9981,
    "start_time": "2021-11-05T12:28:39.129Z"
   },
   {
    "duration": 787,
    "start_time": "2021-11-05T12:29:19.101Z"
   },
   {
    "duration": 373,
    "start_time": "2021-11-05T12:29:37.863Z"
   },
   {
    "duration": 454,
    "start_time": "2021-11-05T12:29:55.857Z"
   },
   {
    "duration": 2772,
    "start_time": "2021-11-05T12:30:38.523Z"
   },
   {
    "duration": 3,
    "start_time": "2021-11-05T12:30:41.298Z"
   },
   {
    "duration": 554,
    "start_time": "2021-11-05T12:30:41.303Z"
   },
   {
    "duration": 4,
    "start_time": "2021-11-05T12:30:41.859Z"
   },
   {
    "duration": 15,
    "start_time": "2021-11-05T12:30:41.865Z"
   },
   {
    "duration": 53,
    "start_time": "2021-11-05T12:30:41.882Z"
   },
   {
    "duration": 1688,
    "start_time": "2021-11-05T12:30:41.937Z"
   },
   {
    "duration": 854,
    "start_time": "2021-11-05T12:30:43.627Z"
   },
   {
    "duration": 1616,
    "start_time": "2021-11-05T12:30:44.483Z"
   },
   {
    "duration": 49,
    "start_time": "2021-11-05T12:30:46.107Z"
   },
   {
    "duration": 3,
    "start_time": "2021-11-05T12:30:46.157Z"
   },
   {
    "duration": 59,
    "start_time": "2021-11-05T12:30:46.162Z"
   },
   {
    "duration": 141,
    "start_time": "2021-11-05T12:30:46.223Z"
   },
   {
    "duration": 677,
    "start_time": "2021-11-05T12:30:46.366Z"
   },
   {
    "duration": 25,
    "start_time": "2021-11-05T12:30:47.045Z"
   },
   {
    "duration": 5,
    "start_time": "2021-11-05T12:30:52.978Z"
   },
   {
    "duration": 9907,
    "start_time": "2021-11-05T12:30:55.650Z"
   },
   {
    "duration": 128,
    "start_time": "2021-11-05T12:31:12.097Z"
   },
   {
    "duration": 7928,
    "start_time": "2021-11-05T12:31:15.392Z"
   },
   {
    "duration": 600,
    "start_time": "2021-11-05T12:31:40.212Z"
   },
   {
    "duration": 594,
    "start_time": "2021-11-05T12:31:49.129Z"
   },
   {
    "duration": 9203,
    "start_time": "2021-11-05T12:32:39.142Z"
   },
   {
    "duration": 9715,
    "start_time": "2021-11-05T12:33:07.503Z"
   },
   {
    "duration": 10070,
    "start_time": "2021-11-05T12:33:28.648Z"
   },
   {
    "duration": 20220,
    "start_time": "2021-11-05T12:34:14.342Z"
   },
   {
    "duration": 1088,
    "start_time": "2021-11-05T12:39:24.815Z"
   },
   {
    "duration": 600,
    "start_time": "2021-11-05T12:39:44.450Z"
   },
   {
    "duration": 9140,
    "start_time": "2021-11-05T12:42:09.311Z"
   },
   {
    "duration": 9658,
    "start_time": "2021-11-05T12:42:34.965Z"
   },
   {
    "duration": 574,
    "start_time": "2021-11-05T12:43:08.150Z"
   },
   {
    "duration": 22799,
    "start_time": "2021-11-05T12:48:33.274Z"
   },
   {
    "duration": 53,
    "start_time": "2021-11-05T12:51:02.932Z"
   },
   {
    "duration": 54,
    "start_time": "2021-11-05T12:51:16.315Z"
   },
   {
    "duration": 52,
    "start_time": "2021-11-05T12:51:40.367Z"
   },
   {
    "duration": 608,
    "start_time": "2021-11-05T12:52:06.410Z"
   },
   {
    "duration": 127,
    "start_time": "2021-11-05T12:52:55.301Z"
   },
   {
    "duration": 629,
    "start_time": "2021-11-05T12:53:33.487Z"
   },
   {
    "duration": 2188,
    "start_time": "2021-11-05T12:55:09.412Z"
   },
   {
    "duration": 57,
    "start_time": "2021-11-05T12:55:48.318Z"
   },
   {
    "duration": 30,
    "start_time": "2021-11-05T12:56:21.026Z"
   },
   {
    "duration": 657,
    "start_time": "2021-11-05T12:56:35.998Z"
   },
   {
    "duration": 678,
    "start_time": "2021-11-05T12:57:01.790Z"
   },
   {
    "duration": 116,
    "start_time": "2021-11-05T12:57:46.916Z"
   },
   {
    "duration": 606,
    "start_time": "2021-11-05T12:57:51.470Z"
   },
   {
    "duration": 630,
    "start_time": "2021-11-05T12:58:24.101Z"
   },
   {
    "duration": 9,
    "start_time": "2021-11-05T12:58:39.321Z"
   },
   {
    "duration": 368,
    "start_time": "2021-11-05T12:59:10.916Z"
   },
   {
    "duration": 11,
    "start_time": "2021-11-05T13:00:11.890Z"
   },
   {
    "duration": 90,
    "start_time": "2021-11-05T13:00:24.284Z"
   },
   {
    "duration": 57,
    "start_time": "2021-11-05T13:00:47.881Z"
   },
   {
    "duration": 611,
    "start_time": "2021-11-05T13:01:04.115Z"
   },
   {
    "duration": 615,
    "start_time": "2021-11-05T13:05:26.158Z"
   },
   {
    "duration": 632,
    "start_time": "2021-11-05T13:05:35.012Z"
   },
   {
    "duration": 680,
    "start_time": "2021-11-05T13:06:22.745Z"
   },
   {
    "duration": 20,
    "start_time": "2021-11-05T13:13:32.816Z"
   },
   {
    "duration": 8352,
    "start_time": "2021-11-05T13:14:20.788Z"
   },
   {
    "duration": 110,
    "start_time": "2021-11-05T13:14:41.293Z"
   },
   {
    "duration": 16,
    "start_time": "2021-11-05T13:14:44.368Z"
   },
   {
    "duration": 23,
    "start_time": "2021-11-05T13:17:30.448Z"
   },
   {
    "duration": 29,
    "start_time": "2021-11-05T13:18:29.397Z"
   },
   {
    "duration": 22,
    "start_time": "2021-11-05T13:19:26.343Z"
   },
   {
    "duration": 7,
    "start_time": "2021-11-05T13:21:51.110Z"
   },
   {
    "duration": 20,
    "start_time": "2021-11-05T13:22:08.554Z"
   },
   {
    "duration": 15,
    "start_time": "2021-11-05T13:28:16.315Z"
   },
   {
    "duration": 17,
    "start_time": "2021-11-05T13:29:12.448Z"
   },
   {
    "duration": 16,
    "start_time": "2021-11-05T13:29:16.566Z"
   },
   {
    "duration": 30,
    "start_time": "2021-11-05T13:29:42.793Z"
   },
   {
    "duration": 25,
    "start_time": "2021-11-05T13:31:40.730Z"
   },
   {
    "duration": 15,
    "start_time": "2021-11-05T13:31:45.221Z"
   },
   {
    "duration": 15,
    "start_time": "2021-11-05T13:31:53.835Z"
   },
   {
    "duration": 16,
    "start_time": "2021-11-05T13:35:49.429Z"
   },
   {
    "duration": 16,
    "start_time": "2021-11-05T13:37:03.164Z"
   },
   {
    "duration": 16,
    "start_time": "2021-11-05T13:40:44.723Z"
   },
   {
    "duration": 40,
    "start_time": "2021-11-05T13:41:02.173Z"
   },
   {
    "duration": 35,
    "start_time": "2021-11-05T13:41:13.848Z"
   },
   {
    "duration": 42,
    "start_time": "2021-11-05T13:41:32.010Z"
   },
   {
    "duration": 45,
    "start_time": "2021-11-05T13:41:42.103Z"
   },
   {
    "duration": 41,
    "start_time": "2021-11-05T13:42:26.374Z"
   },
   {
    "duration": 217,
    "start_time": "2021-11-05T13:43:35.359Z"
   },
   {
    "duration": 12270,
    "start_time": "2021-11-06T08:30:20.920Z"
   },
   {
    "duration": 1510,
    "start_time": "2021-11-06T08:30:33.193Z"
   },
   {
    "duration": 477,
    "start_time": "2021-11-06T08:30:34.707Z"
   },
   {
    "duration": 7,
    "start_time": "2021-11-06T08:30:35.187Z"
   },
   {
    "duration": 20,
    "start_time": "2021-11-06T08:30:35.197Z"
   },
   {
    "duration": 79,
    "start_time": "2021-11-06T08:30:35.220Z"
   },
   {
    "duration": 2996,
    "start_time": "2021-11-06T08:30:35.302Z"
   },
   {
    "duration": 1345,
    "start_time": "2021-11-06T08:30:38.301Z"
   },
   {
    "duration": 2513,
    "start_time": "2021-11-06T08:30:39.648Z"
   },
   {
    "duration": 5,
    "start_time": "2021-11-06T08:31:49.497Z"
   },
   {
    "duration": 4,
    "start_time": "2021-11-06T08:31:54.823Z"
   },
   {
    "duration": 69,
    "start_time": "2021-11-06T08:32:14.372Z"
   },
   {
    "duration": 542,
    "start_time": "2021-11-06T08:32:16.603Z"
   },
   {
    "duration": 10,
    "start_time": "2021-11-06T08:32:21.120Z"
   },
   {
    "duration": 51,
    "start_time": "2021-11-06T08:32:23.657Z"
   },
   {
    "duration": 104,
    "start_time": "2021-11-06T08:32:44.918Z"
   },
   {
    "duration": 126,
    "start_time": "2021-11-06T08:33:00.218Z"
   },
   {
    "duration": 105,
    "start_time": "2021-11-06T08:36:48.493Z"
   },
   {
    "duration": 405,
    "start_time": "2021-11-06T09:18:00.415Z"
   },
   {
    "duration": 62,
    "start_time": "2021-11-06T09:18:13.564Z"
   },
   {
    "duration": 186,
    "start_time": "2021-11-06T09:18:16.047Z"
   },
   {
    "duration": 956,
    "start_time": "2021-11-06T09:18:20.047Z"
   },
   {
    "duration": 17,
    "start_time": "2021-11-06T09:18:24.115Z"
   },
   {
    "duration": 188,
    "start_time": "2021-11-06T09:18:26.825Z"
   },
   {
    "duration": 197,
    "start_time": "2021-11-06T09:18:30.640Z"
   },
   {
    "duration": 841,
    "start_time": "2021-11-06T09:22:39.478Z"
   },
   {
    "duration": 3111,
    "start_time": "2021-11-06T09:22:45.065Z"
   },
   {
    "duration": 1609,
    "start_time": "2021-11-06T09:22:52.132Z"
   },
   {
    "duration": 3371,
    "start_time": "2021-11-06T09:25:44.005Z"
   },
   {
    "duration": 3972,
    "start_time": "2021-11-06T09:26:17.485Z"
   },
   {
    "duration": 3703,
    "start_time": "2021-11-06T09:26:21.885Z"
   },
   {
    "duration": 1800,
    "start_time": "2021-11-06T09:27:15.143Z"
   },
   {
    "duration": 1178,
    "start_time": "2021-11-06T09:27:44.489Z"
   },
   {
    "duration": 2025,
    "start_time": "2021-11-06T09:40:04.734Z"
   },
   {
    "duration": 1514,
    "start_time": "2021-11-06T09:40:17.304Z"
   },
   {
    "duration": 1525,
    "start_time": "2021-11-06T09:47:11.997Z"
   },
   {
    "duration": 1076,
    "start_time": "2021-11-06T09:48:38.999Z"
   },
   {
    "duration": 384,
    "start_time": "2021-11-06T10:00:08.926Z"
   },
   {
    "duration": 700,
    "start_time": "2021-11-06T10:00:20.043Z"
   },
   {
    "duration": 808,
    "start_time": "2021-11-06T10:00:50.730Z"
   },
   {
    "duration": 3813,
    "start_time": "2021-11-06T10:06:55.010Z"
   },
   {
    "duration": 3621,
    "start_time": "2021-11-06T10:07:49.719Z"
   },
   {
    "duration": 3909,
    "start_time": "2021-11-06T10:08:09.194Z"
   },
   {
    "duration": 5915,
    "start_time": "2021-11-06T10:08:53.346Z"
   },
   {
    "duration": 5344,
    "start_time": "2021-11-06T10:09:45.394Z"
   },
   {
    "duration": 2921,
    "start_time": "2021-11-06T10:10:04.007Z"
   },
   {
    "duration": 269,
    "start_time": "2021-11-06T10:12:49.518Z"
   },
   {
    "duration": 18,
    "start_time": "2021-11-06T10:12:52.930Z"
   },
   {
    "duration": 187,
    "start_time": "2021-11-06T10:12:54.836Z"
   },
   {
    "duration": 2923,
    "start_time": "2021-11-06T10:13:05.649Z"
   },
   {
    "duration": 3181,
    "start_time": "2021-11-06T10:13:18.144Z"
   },
   {
    "duration": 2947,
    "start_time": "2021-11-06T10:14:19.371Z"
   },
   {
    "duration": 2960,
    "start_time": "2021-11-06T10:15:38.777Z"
   },
   {
    "duration": 2117,
    "start_time": "2021-11-06T10:16:00.668Z"
   },
   {
    "duration": 2964,
    "start_time": "2021-11-06T10:16:46.617Z"
   },
   {
    "duration": 3076,
    "start_time": "2021-11-06T10:21:49.066Z"
   },
   {
    "duration": 3080,
    "start_time": "2021-11-06T10:23:59.354Z"
   },
   {
    "duration": 3106,
    "start_time": "2021-11-06T10:25:27.977Z"
   },
   {
    "duration": 3078,
    "start_time": "2021-11-06T10:27:29.400Z"
   },
   {
    "duration": 3297,
    "start_time": "2021-11-06T10:27:37.235Z"
   },
   {
    "duration": 2618,
    "start_time": "2021-11-06T10:28:12.271Z"
   },
   {
    "duration": 10229,
    "start_time": "2021-11-07T09:05:11.461Z"
   },
   {
    "duration": 1604,
    "start_time": "2021-11-07T09:05:21.693Z"
   },
   {
    "duration": 436,
    "start_time": "2021-11-07T09:05:23.300Z"
   },
   {
    "duration": 7,
    "start_time": "2021-11-07T09:05:23.738Z"
   },
   {
    "duration": 29,
    "start_time": "2021-11-07T09:05:23.747Z"
   },
   {
    "duration": 87,
    "start_time": "2021-11-07T09:05:23.778Z"
   },
   {
    "duration": 2988,
    "start_time": "2021-11-07T09:05:23.868Z"
   },
   {
    "duration": 1422,
    "start_time": "2021-11-07T09:05:26.859Z"
   },
   {
    "duration": 2585,
    "start_time": "2021-11-07T09:05:28.284Z"
   },
   {
    "duration": 171,
    "start_time": "2021-11-07T09:05:30.871Z"
   },
   {
    "duration": 69,
    "start_time": "2021-11-07T09:05:31.044Z"
   },
   {
    "duration": 63,
    "start_time": "2021-11-07T09:05:31.115Z"
   },
   {
    "duration": 201,
    "start_time": "2021-11-07T09:05:31.180Z"
   },
   {
    "duration": 17,
    "start_time": "2021-11-07T09:05:31.383Z"
   },
   {
    "duration": 209,
    "start_time": "2021-11-07T09:05:31.402Z"
   },
   {
    "duration": 2725,
    "start_time": "2021-11-07T09:05:31.614Z"
   },
   {
    "duration": 3230,
    "start_time": "2021-11-07T09:09:52.503Z"
   },
   {
    "duration": 1561,
    "start_time": "2021-11-07T09:09:55.735Z"
   },
   {
    "duration": 434,
    "start_time": "2021-11-07T09:09:57.299Z"
   },
   {
    "duration": 6,
    "start_time": "2021-11-07T09:09:57.735Z"
   },
   {
    "duration": 21,
    "start_time": "2021-11-07T09:09:57.743Z"
   },
   {
    "duration": 411,
    "start_time": "2021-11-07T09:09:57.766Z"
   },
   {
    "duration": -81,
    "start_time": "2021-11-07T09:09:58.261Z"
   },
   {
    "duration": -101,
    "start_time": "2021-11-07T09:09:58.283Z"
   },
   {
    "duration": -104,
    "start_time": "2021-11-07T09:09:58.287Z"
   },
   {
    "duration": -105,
    "start_time": "2021-11-07T09:09:58.290Z"
   },
   {
    "duration": -106,
    "start_time": "2021-11-07T09:09:58.293Z"
   },
   {
    "duration": -136,
    "start_time": "2021-11-07T09:09:58.324Z"
   },
   {
    "duration": -214,
    "start_time": "2021-11-07T09:09:58.404Z"
   },
   {
    "duration": -219,
    "start_time": "2021-11-07T09:09:58.410Z"
   },
   {
    "duration": -228,
    "start_time": "2021-11-07T09:09:58.420Z"
   },
   {
    "duration": -232,
    "start_time": "2021-11-07T09:09:58.426Z"
   },
   {
    "duration": 3332,
    "start_time": "2021-11-07T09:10:23.951Z"
   },
   {
    "duration": 1495,
    "start_time": "2021-11-07T09:10:27.286Z"
   },
   {
    "duration": 426,
    "start_time": "2021-11-07T09:10:28.784Z"
   },
   {
    "duration": 6,
    "start_time": "2021-11-07T09:10:29.213Z"
   },
   {
    "duration": 26,
    "start_time": "2021-11-07T09:10:29.221Z"
   },
   {
    "duration": 85,
    "start_time": "2021-11-07T09:10:29.249Z"
   },
   {
    "duration": 2992,
    "start_time": "2021-11-07T09:10:29.336Z"
   },
   {
    "duration": 1458,
    "start_time": "2021-11-07T09:10:32.332Z"
   },
   {
    "duration": 3239,
    "start_time": "2021-11-07T09:10:41.821Z"
   },
   {
    "duration": 1532,
    "start_time": "2021-11-07T09:10:45.063Z"
   },
   {
    "duration": 451,
    "start_time": "2021-11-07T09:10:46.598Z"
   },
   {
    "duration": 5,
    "start_time": "2021-11-07T09:10:47.052Z"
   },
   {
    "duration": 40,
    "start_time": "2021-11-07T09:10:47.059Z"
   },
   {
    "duration": 452,
    "start_time": "2021-11-07T09:10:47.102Z"
   },
   {
    "duration": -82,
    "start_time": "2021-11-07T09:10:47.639Z"
   },
   {
    "duration": -84,
    "start_time": "2021-11-07T09:10:47.642Z"
   },
   {
    "duration": -85,
    "start_time": "2021-11-07T09:10:47.645Z"
   },
   {
    "duration": -87,
    "start_time": "2021-11-07T09:10:47.648Z"
   },
   {
    "duration": -89,
    "start_time": "2021-11-07T09:10:47.651Z"
   },
   {
    "duration": -91,
    "start_time": "2021-11-07T09:10:47.654Z"
   },
   {
    "duration": -92,
    "start_time": "2021-11-07T09:10:47.657Z"
   },
   {
    "duration": -94,
    "start_time": "2021-11-07T09:10:47.660Z"
   },
   {
    "duration": -96,
    "start_time": "2021-11-07T09:10:47.664Z"
   },
   {
    "duration": -170,
    "start_time": "2021-11-07T09:10:47.739Z"
   },
   {
    "duration": 3354,
    "start_time": "2021-11-07T09:11:00.537Z"
   },
   {
    "duration": 1608,
    "start_time": "2021-11-07T09:11:03.894Z"
   },
   {
    "duration": 437,
    "start_time": "2021-11-07T09:11:05.505Z"
   },
   {
    "duration": 6,
    "start_time": "2021-11-07T09:11:05.945Z"
   },
   {
    "duration": 38,
    "start_time": "2021-11-07T09:11:05.953Z"
   },
   {
    "duration": 95,
    "start_time": "2021-11-07T09:11:05.994Z"
   },
   {
    "duration": 3028,
    "start_time": "2021-11-07T09:11:06.091Z"
   },
   {
    "duration": 1395,
    "start_time": "2021-11-07T09:11:09.129Z"
   },
   {
    "duration": 2424,
    "start_time": "2021-11-07T09:11:10.530Z"
   },
   {
    "duration": 180,
    "start_time": "2021-11-07T09:11:12.956Z"
   },
   {
    "duration": 71,
    "start_time": "2021-11-07T09:11:13.138Z"
   },
   {
    "duration": 61,
    "start_time": "2021-11-07T09:11:13.212Z"
   },
   {
    "duration": 200,
    "start_time": "2021-11-07T09:11:13.275Z"
   },
   {
    "duration": 16,
    "start_time": "2021-11-07T09:11:13.478Z"
   },
   {
    "duration": 208,
    "start_time": "2021-11-07T09:11:13.497Z"
   },
   {
    "duration": 2665,
    "start_time": "2021-11-07T09:11:13.707Z"
   },
   {
    "duration": 3187,
    "start_time": "2021-11-07T09:15:39.364Z"
   },
   {
    "duration": 2982,
    "start_time": "2021-11-07T09:17:10.620Z"
   },
   {
    "duration": 3129,
    "start_time": "2021-11-07T09:17:39.448Z"
   },
   {
    "duration": 3113,
    "start_time": "2021-11-07T09:17:57.498Z"
   },
   {
    "duration": 3427,
    "start_time": "2021-11-07T09:18:14.260Z"
   },
   {
    "duration": 3183,
    "start_time": "2021-11-07T09:18:33.808Z"
   },
   {
    "duration": 3194,
    "start_time": "2021-11-07T09:19:09.212Z"
   },
   {
    "duration": 3405,
    "start_time": "2021-11-07T10:50:41.559Z"
   },
   {
    "duration": 4,
    "start_time": "2021-11-07T10:50:44.967Z"
   },
   {
    "duration": 805,
    "start_time": "2021-11-07T10:50:44.974Z"
   },
   {
    "duration": 6,
    "start_time": "2021-11-07T10:50:45.783Z"
   },
   {
    "duration": 21,
    "start_time": "2021-11-07T10:50:45.791Z"
   },
   {
    "duration": 91,
    "start_time": "2021-11-07T10:50:45.815Z"
   },
   {
    "duration": 2686,
    "start_time": "2021-11-07T10:50:45.909Z"
   },
   {
    "duration": 1390,
    "start_time": "2021-11-07T10:50:48.599Z"
   },
   {
    "duration": 2586,
    "start_time": "2021-11-07T10:50:49.992Z"
   },
   {
    "duration": 168,
    "start_time": "2021-11-07T10:50:52.581Z"
   },
   {
    "duration": 79,
    "start_time": "2021-11-07T10:50:52.751Z"
   },
   {
    "duration": 49,
    "start_time": "2021-11-07T10:50:52.832Z"
   },
   {
    "duration": 211,
    "start_time": "2021-11-07T10:50:52.883Z"
   },
   {
    "duration": 16,
    "start_time": "2021-11-07T10:50:53.097Z"
   },
   {
    "duration": 191,
    "start_time": "2021-11-07T10:50:53.128Z"
   },
   {
    "duration": 3604,
    "start_time": "2021-11-07T10:50:53.329Z"
   },
   {
    "duration": 4,
    "start_time": "2021-11-07T10:56:40.498Z"
   },
   {
    "duration": 82,
    "start_time": "2021-11-07T11:02:33.511Z"
   },
   {
    "duration": 416,
    "start_time": "2021-11-07T11:02:42.428Z"
   },
   {
    "duration": 8,
    "start_time": "2021-11-07T11:03:15.070Z"
   },
   {
    "duration": 6,
    "start_time": "2021-11-07T11:04:03.887Z"
   },
   {
    "duration": 6,
    "start_time": "2021-11-07T11:04:41.396Z"
   },
   {
    "duration": 6,
    "start_time": "2021-11-07T11:04:45.408Z"
   },
   {
    "duration": 487,
    "start_time": "2021-11-07T11:08:55.779Z"
   },
   {
    "duration": 13,
    "start_time": "2021-11-07T11:10:41.344Z"
   },
   {
    "duration": 482,
    "start_time": "2021-11-07T11:11:01.836Z"
   },
   {
    "duration": 14,
    "start_time": "2021-11-07T11:13:49.989Z"
   },
   {
    "duration": 15,
    "start_time": "2021-11-07T11:14:04.306Z"
   },
   {
    "duration": 15,
    "start_time": "2021-11-07T11:14:32.186Z"
   },
   {
    "duration": 10,
    "start_time": "2021-11-07T11:14:45.095Z"
   },
   {
    "duration": 4612,
    "start_time": "2021-11-07T11:20:51.258Z"
   },
   {
    "duration": 5143,
    "start_time": "2021-11-07T11:22:08.546Z"
   },
   {
    "duration": 3868,
    "start_time": "2021-11-07T11:22:32.032Z"
   },
   {
    "duration": 818,
    "start_time": "2021-11-07T11:23:33.564Z"
   },
   {
    "duration": 3420,
    "start_time": "2021-11-07T11:23:56.036Z"
   },
   {
    "duration": 833,
    "start_time": "2021-11-07T11:24:04.043Z"
   },
   {
    "duration": 1354,
    "start_time": "2021-11-07T11:25:34.556Z"
   },
   {
    "duration": 1307,
    "start_time": "2021-11-07T11:26:22.881Z"
   },
   {
    "duration": 2222,
    "start_time": "2021-11-07T11:27:28.795Z"
   },
   {
    "duration": 3260,
    "start_time": "2021-11-07T11:27:44.869Z"
   },
   {
    "duration": 674,
    "start_time": "2021-11-07T11:27:57.710Z"
   },
   {
    "duration": 3127,
    "start_time": "2021-11-07T11:29:54.357Z"
   },
   {
    "duration": 680,
    "start_time": "2021-11-07T11:30:00.929Z"
   },
   {
    "duration": 1116,
    "start_time": "2021-11-07T11:30:11.675Z"
   },
   {
    "duration": 756,
    "start_time": "2021-11-07T11:30:18.618Z"
   },
   {
    "duration": 3153,
    "start_time": "2021-11-07T11:30:28.149Z"
   },
   {
    "duration": 690,
    "start_time": "2021-11-07T11:30:36.332Z"
   },
   {
    "duration": 3041,
    "start_time": "2021-11-07T11:33:06.592Z"
   },
   {
    "duration": 1100,
    "start_time": "2021-11-07T11:33:50.693Z"
   },
   {
    "duration": 9,
    "start_time": "2021-11-07T11:34:22.121Z"
   },
   {
    "duration": 16,
    "start_time": "2021-11-07T11:36:11.945Z"
   },
   {
    "duration": 196,
    "start_time": "2021-11-07T11:36:14.296Z"
   },
   {
    "duration": 3017,
    "start_time": "2021-11-07T11:36:24.664Z"
   },
   {
    "duration": 9,
    "start_time": "2021-11-07T11:38:02.103Z"
   },
   {
    "duration": 866,
    "start_time": "2021-11-07T11:39:08.236Z"
   },
   {
    "duration": 445,
    "start_time": "2021-11-07T11:39:50.804Z"
   },
   {
    "duration": 12,
    "start_time": "2021-11-07T11:39:58.982Z"
   },
   {
    "duration": 3293,
    "start_time": "2021-11-07T11:55:10.314Z"
   },
   {
    "duration": 3915,
    "start_time": "2021-11-07T11:56:00.756Z"
   },
   {
    "duration": 3825,
    "start_time": "2021-11-07T11:56:22.785Z"
   },
   {
    "duration": 285,
    "start_time": "2021-11-07T11:56:48.739Z"
   },
   {
    "duration": 509,
    "start_time": "2021-11-07T11:57:02.696Z"
   },
   {
    "duration": 4002,
    "start_time": "2021-11-07T12:00:22.641Z"
   },
   {
    "duration": 451,
    "start_time": "2021-11-07T12:00:33.314Z"
   },
   {
    "duration": 679,
    "start_time": "2021-11-07T12:01:01.183Z"
   },
   {
    "duration": 1365,
    "start_time": "2021-11-07T12:03:02.684Z"
   },
   {
    "duration": 607,
    "start_time": "2021-11-07T12:11:22.272Z"
   },
   {
    "duration": 992,
    "start_time": "2021-11-07T12:14:41.780Z"
   },
   {
    "duration": 472,
    "start_time": "2021-11-07T12:15:29.350Z"
   },
   {
    "duration": 499,
    "start_time": "2021-11-07T12:15:41.284Z"
   },
   {
    "duration": 670,
    "start_time": "2021-11-07T14:33:28.775Z"
   },
   {
    "duration": 286,
    "start_time": "2021-11-07T15:41:26.346Z"
   },
   {
    "duration": 258,
    "start_time": "2021-11-07T15:43:29.860Z"
   },
   {
    "duration": 5,
    "start_time": "2021-11-07T15:43:39.321Z"
   },
   {
    "duration": 6,
    "start_time": "2021-11-07T15:43:40.750Z"
   },
   {
    "duration": 12,
    "start_time": "2021-11-07T15:51:40.485Z"
   },
   {
    "duration": 11,
    "start_time": "2021-11-07T15:53:26.002Z"
   },
   {
    "duration": 13,
    "start_time": "2021-11-07T15:54:14.070Z"
   },
   {
    "duration": 12,
    "start_time": "2021-11-07T15:55:50.297Z"
   },
   {
    "duration": 12,
    "start_time": "2021-11-07T15:56:05.915Z"
   },
   {
    "duration": 13,
    "start_time": "2021-11-07T15:59:15.517Z"
   },
   {
    "duration": 17,
    "start_time": "2021-11-07T15:59:57.920Z"
   },
   {
    "duration": 9,
    "start_time": "2021-11-07T16:34:25.626Z"
   },
   {
    "duration": 10,
    "start_time": "2021-11-07T16:37:51.639Z"
   },
   {
    "duration": 11,
    "start_time": "2021-11-07T17:01:28.945Z"
   },
   {
    "duration": 13,
    "start_time": "2021-11-07T17:01:49.564Z"
   },
   {
    "duration": 10,
    "start_time": "2021-11-07T17:02:00.479Z"
   },
   {
    "duration": 10785,
    "start_time": "2021-11-07T17:41:03.110Z"
   },
   {
    "duration": 1649,
    "start_time": "2021-11-07T17:41:13.898Z"
   },
   {
    "duration": 462,
    "start_time": "2021-11-07T17:41:15.550Z"
   },
   {
    "duration": 6,
    "start_time": "2021-11-07T17:41:16.014Z"
   },
   {
    "duration": 23,
    "start_time": "2021-11-07T17:41:16.022Z"
   },
   {
    "duration": 85,
    "start_time": "2021-11-07T17:41:16.048Z"
   },
   {
    "duration": 3401,
    "start_time": "2021-11-07T17:41:16.136Z"
   },
   {
    "duration": 1379,
    "start_time": "2021-11-07T17:41:19.541Z"
   },
   {
    "duration": 2444,
    "start_time": "2021-11-07T17:41:20.923Z"
   },
   {
    "duration": 197,
    "start_time": "2021-11-07T17:41:23.369Z"
   },
   {
    "duration": 78,
    "start_time": "2021-11-07T17:41:23.568Z"
   },
   {
    "duration": 49,
    "start_time": "2021-11-07T17:41:23.649Z"
   },
   {
    "duration": 206,
    "start_time": "2021-11-07T17:41:23.701Z"
   },
   {
    "duration": 21,
    "start_time": "2021-11-07T17:41:23.909Z"
   },
   {
    "duration": 223,
    "start_time": "2021-11-07T17:41:23.932Z"
   },
   {
    "duration": 3073,
    "start_time": "2021-11-07T17:41:24.158Z"
   },
   {
    "duration": 458,
    "start_time": "2021-11-07T17:41:27.234Z"
   },
   {
    "duration": 680,
    "start_time": "2021-11-07T17:41:27.694Z"
   },
   {
    "duration": 8,
    "start_time": "2021-11-07T17:41:28.377Z"
   },
   {
    "duration": 489,
    "start_time": "2021-11-07T17:41:28.388Z"
   },
   {
    "duration": 805,
    "start_time": "2021-11-07T17:41:28.879Z"
   },
   {
    "duration": 13,
    "start_time": "2021-11-07T17:41:29.686Z"
   },
   {
    "duration": 25,
    "start_time": "2021-11-07T18:20:24.448Z"
   },
   {
    "duration": 17,
    "start_time": "2021-11-07T18:20:39.382Z"
   },
   {
    "duration": 5111,
    "start_time": "2021-11-07T18:24:28.593Z"
   },
   {
    "duration": 4,
    "start_time": "2021-11-07T18:24:33.707Z"
   },
   {
    "duration": 464,
    "start_time": "2021-11-07T18:24:33.714Z"
   },
   {
    "duration": 6,
    "start_time": "2021-11-07T18:24:34.181Z"
   },
   {
    "duration": 18,
    "start_time": "2021-11-07T18:24:34.189Z"
   },
   {
    "duration": 74,
    "start_time": "2021-11-07T18:24:34.210Z"
   },
   {
    "duration": 2592,
    "start_time": "2021-11-07T18:24:34.287Z"
   },
   {
    "duration": 1547,
    "start_time": "2021-11-07T18:24:36.883Z"
   },
   {
    "duration": 2554,
    "start_time": "2021-11-07T18:24:38.433Z"
   },
   {
    "duration": 173,
    "start_time": "2021-11-07T18:24:40.990Z"
   },
   {
    "duration": 82,
    "start_time": "2021-11-07T18:24:41.166Z"
   },
   {
    "duration": 49,
    "start_time": "2021-11-07T18:24:41.251Z"
   },
   {
    "duration": 177,
    "start_time": "2021-11-07T18:24:50.361Z"
   },
   {
    "duration": 41,
    "start_time": "2021-11-07T18:24:58.196Z"
   },
   {
    "duration": 16,
    "start_time": "2021-11-07T18:28:54.571Z"
   },
   {
    "duration": 19,
    "start_time": "2021-11-07T18:29:22.333Z"
   },
   {
    "duration": 17,
    "start_time": "2021-11-07T18:29:44.061Z"
   },
   {
    "duration": 194,
    "start_time": "2021-11-07T18:39:03.945Z"
   },
   {
    "duration": 27,
    "start_time": "2021-11-07T18:39:08.979Z"
   },
   {
    "duration": 26,
    "start_time": "2021-11-07T18:42:54.851Z"
   },
   {
    "duration": 27,
    "start_time": "2021-11-07T18:42:59.156Z"
   },
   {
    "duration": 28,
    "start_time": "2021-11-07T18:44:20.953Z"
   },
   {
    "duration": 26,
    "start_time": "2021-11-07T18:44:44.498Z"
   },
   {
    "duration": 27,
    "start_time": "2021-11-07T18:45:02.866Z"
   },
   {
    "duration": 28,
    "start_time": "2021-11-07T18:45:10.170Z"
   },
   {
    "duration": 6,
    "start_time": "2021-11-07T19:13:18.532Z"
   },
   {
    "duration": 12213,
    "start_time": "2021-11-08T13:40:02.018Z"
   },
   {
    "duration": 1714,
    "start_time": "2021-11-08T13:40:22.713Z"
   },
   {
    "duration": 500,
    "start_time": "2021-11-08T13:40:47.644Z"
   },
   {
    "duration": 7,
    "start_time": "2021-11-08T13:40:54.530Z"
   },
   {
    "duration": 19,
    "start_time": "2021-11-08T13:41:05.215Z"
   },
   {
    "duration": 82,
    "start_time": "2021-11-08T13:48:42.005Z"
   },
   {
    "duration": 122,
    "start_time": "2021-11-08T13:49:33.107Z"
   },
   {
    "duration": 6,
    "start_time": "2021-11-08T13:52:37.680Z"
   },
   {
    "duration": 3553,
    "start_time": "2021-11-08T13:52:43.210Z"
   },
   {
    "duration": 6,
    "start_time": "2021-11-08T13:55:10.567Z"
   },
   {
    "duration": 2805,
    "start_time": "2021-11-08T13:55:15.591Z"
   },
   {
    "duration": 6,
    "start_time": "2021-11-08T13:56:44.434Z"
   },
   {
    "duration": 2545,
    "start_time": "2021-11-08T13:56:48.379Z"
   },
   {
    "duration": 6,
    "start_time": "2021-11-08T13:58:31.224Z"
   },
   {
    "duration": 2471,
    "start_time": "2021-11-08T13:58:35.746Z"
   },
   {
    "duration": 6,
    "start_time": "2021-11-08T13:58:51.647Z"
   },
   {
    "duration": 2545,
    "start_time": "2021-11-08T13:58:55.844Z"
   },
   {
    "duration": 34,
    "start_time": "2021-11-08T14:00:01.838Z"
   },
   {
    "duration": 2329,
    "start_time": "2021-11-08T14:00:22.513Z"
   },
   {
    "duration": 1571,
    "start_time": "2021-11-08T14:01:46.123Z"
   },
   {
    "duration": 2443,
    "start_time": "2021-11-08T14:02:25.006Z"
   },
   {
    "duration": 153,
    "start_time": "2021-11-08T14:03:41.428Z"
   },
   {
    "duration": 155,
    "start_time": "2021-11-08T14:03:45.100Z"
   },
   {
    "duration": 92,
    "start_time": "2021-11-08T14:05:34.173Z"
   },
   {
    "duration": 142,
    "start_time": "2021-11-08T14:05:41.851Z"
   },
   {
    "duration": 139,
    "start_time": "2021-11-08T14:05:51.066Z"
   },
   {
    "duration": 272,
    "start_time": "2021-11-08T14:39:53.880Z"
   },
   {
    "duration": 236,
    "start_time": "2021-11-08T14:40:05.274Z"
   },
   {
    "duration": 51,
    "start_time": "2021-11-08T14:40:07.074Z"
   },
   {
    "duration": 184,
    "start_time": "2021-11-08T14:40:09.642Z"
   },
   {
    "duration": 44,
    "start_time": "2021-11-08T14:40:12.292Z"
   },
   {
    "duration": 17,
    "start_time": "2021-11-08T14:40:31.840Z"
   },
   {
    "duration": 58,
    "start_time": "2021-11-08T14:44:04.530Z"
   },
   {
    "duration": 4,
    "start_time": "2021-11-08T14:49:17.110Z"
   },
   {
    "duration": 177,
    "start_time": "2021-11-08T14:50:14.683Z"
   },
   {
    "duration": 3531,
    "start_time": "2021-11-08T14:51:39.236Z"
   },
   {
    "duration": 3786,
    "start_time": "2021-11-08T14:51:51.464Z"
   },
   {
    "duration": 299,
    "start_time": "2021-11-08T14:53:25.500Z"
   },
   {
    "duration": 350,
    "start_time": "2021-11-08T14:53:33.006Z"
   },
   {
    "duration": 272,
    "start_time": "2021-11-08T14:53:35.117Z"
   },
   {
    "duration": 7,
    "start_time": "2021-11-08T14:53:41.821Z"
   },
   {
    "duration": 6,
    "start_time": "2021-11-08T14:53:45.974Z"
   },
   {
    "duration": 293,
    "start_time": "2021-11-08T14:54:45.015Z"
   },
   {
    "duration": 90,
    "start_time": "2021-11-08T14:54:48.592Z"
   },
   {
    "duration": 271,
    "start_time": "2021-11-08T14:54:52.467Z"
   },
   {
    "duration": 11,
    "start_time": "2021-11-08T14:54:58.050Z"
   },
   {
    "duration": 10,
    "start_time": "2021-11-08T14:55:11.403Z"
   },
   {
    "duration": 16,
    "start_time": "2021-11-08T14:55:30.966Z"
   },
   {
    "duration": 293,
    "start_time": "2021-11-08T14:56:21.804Z"
   },
   {
    "duration": 343,
    "start_time": "2021-11-08T15:01:31.929Z"
   },
   {
    "duration": 27,
    "start_time": "2021-11-08T15:02:14.824Z"
   },
   {
    "duration": 329,
    "start_time": "2021-11-08T15:02:39.936Z"
   },
   {
    "duration": 323,
    "start_time": "2021-11-08T15:03:11.395Z"
   },
   {
    "duration": 29,
    "start_time": "2021-11-08T15:04:18.876Z"
   },
   {
    "duration": 21,
    "start_time": "2021-11-08T15:05:23.706Z"
   },
   {
    "duration": 184,
    "start_time": "2021-11-08T15:06:50.202Z"
   },
   {
    "duration": 264,
    "start_time": "2021-11-08T15:08:34.985Z"
   },
   {
    "duration": 283,
    "start_time": "2021-11-08T15:09:33.401Z"
   },
   {
    "duration": 309,
    "start_time": "2021-11-08T15:10:30.352Z"
   },
   {
    "duration": 289,
    "start_time": "2021-11-08T15:10:43.216Z"
   },
   {
    "duration": 17,
    "start_time": "2021-11-08T15:10:58.879Z"
   },
   {
    "duration": 318,
    "start_time": "2021-11-08T15:11:56.553Z"
   },
   {
    "duration": 363,
    "start_time": "2021-11-08T15:12:18.854Z"
   },
   {
    "duration": 349,
    "start_time": "2021-11-08T15:12:54.947Z"
   },
   {
    "duration": 65,
    "start_time": "2021-11-08T15:13:47.406Z"
   },
   {
    "duration": 31,
    "start_time": "2021-11-08T15:13:54.274Z"
   },
   {
    "duration": 33,
    "start_time": "2021-11-08T15:24:34.415Z"
   },
   {
    "duration": 277,
    "start_time": "2021-11-08T15:24:43.728Z"
   },
   {
    "duration": 296,
    "start_time": "2021-11-08T15:25:01.828Z"
   },
   {
    "duration": 35,
    "start_time": "2021-11-08T15:25:05.692Z"
   },
   {
    "duration": 33,
    "start_time": "2021-11-08T15:25:19.058Z"
   },
   {
    "duration": 34,
    "start_time": "2021-11-08T15:26:07.387Z"
   },
   {
    "duration": 107,
    "start_time": "2021-11-08T15:26:56.586Z"
   },
   {
    "duration": 35,
    "start_time": "2021-11-08T15:27:01.993Z"
   },
   {
    "duration": 33,
    "start_time": "2021-11-08T15:27:14.394Z"
   },
   {
    "duration": 32,
    "start_time": "2021-11-08T15:27:34.754Z"
   },
   {
    "duration": 32,
    "start_time": "2021-11-08T15:27:39.734Z"
   },
   {
    "duration": 36,
    "start_time": "2021-11-08T15:28:34.624Z"
   },
   {
    "duration": 34,
    "start_time": "2021-11-08T15:28:39.825Z"
   },
   {
    "duration": 101,
    "start_time": "2021-11-08T15:30:55.838Z"
   },
   {
    "duration": 37,
    "start_time": "2021-11-08T15:31:03.189Z"
   },
   {
    "duration": 36,
    "start_time": "2021-11-08T15:32:25.259Z"
   },
   {
    "duration": 15,
    "start_time": "2021-11-08T15:36:49.792Z"
   },
   {
    "duration": 49,
    "start_time": "2021-11-08T15:37:28.925Z"
   },
   {
    "duration": 19,
    "start_time": "2021-11-08T15:40:16.193Z"
   },
   {
    "duration": 19,
    "start_time": "2021-11-08T15:40:20.757Z"
   },
   {
    "duration": 391,
    "start_time": "2021-11-08T15:41:36.713Z"
   },
   {
    "duration": 176,
    "start_time": "2021-11-08T15:41:55.215Z"
   },
   {
    "duration": 50,
    "start_time": "2021-11-08T15:42:10.779Z"
   },
   {
    "duration": 18,
    "start_time": "2021-11-08T15:42:21.126Z"
   },
   {
    "duration": 20,
    "start_time": "2021-11-08T15:42:23.377Z"
   },
   {
    "duration": 191,
    "start_time": "2021-11-08T15:45:03.528Z"
   },
   {
    "duration": 28,
    "start_time": "2021-11-08T15:46:04.268Z"
   },
   {
    "duration": 1981,
    "start_time": "2021-11-08T15:48:24.552Z"
   },
   {
    "duration": 3139,
    "start_time": "2021-11-08T15:48:33.624Z"
   },
   {
    "duration": 3327,
    "start_time": "2021-11-08T15:52:29.034Z"
   },
   {
    "duration": 3381,
    "start_time": "2021-11-08T15:52:41.389Z"
   },
   {
    "duration": 2095,
    "start_time": "2021-11-08T15:55:24.838Z"
   },
   {
    "duration": 3301,
    "start_time": "2021-11-08T15:55:38.839Z"
   },
   {
    "duration": 3860,
    "start_time": "2021-11-08T16:02:26.483Z"
   },
   {
    "duration": 295,
    "start_time": "2021-11-08T16:03:18.067Z"
   },
   {
    "duration": 7,
    "start_time": "2021-11-08T16:03:47.030Z"
   },
   {
    "duration": 8,
    "start_time": "2021-11-08T16:04:01.252Z"
   },
   {
    "duration": 290,
    "start_time": "2021-11-08T16:04:03.560Z"
   },
   {
    "duration": 7,
    "start_time": "2021-11-08T16:04:08.010Z"
   },
   {
    "duration": 6,
    "start_time": "2021-11-08T16:04:30.308Z"
   },
   {
    "duration": 4335,
    "start_time": "2021-11-08T16:05:50.244Z"
   },
   {
    "duration": 3322,
    "start_time": "2021-11-08T16:53:43.429Z"
   },
   {
    "duration": 3289,
    "start_time": "2021-11-08T16:54:26.271Z"
   },
   {
    "duration": 680,
    "start_time": "2021-11-08T18:01:56.664Z"
   },
   {
    "duration": 507,
    "start_time": "2021-11-08T18:02:06.466Z"
   },
   {
    "duration": 864,
    "start_time": "2021-11-08T18:02:44.908Z"
   },
   {
    "duration": 9,
    "start_time": "2021-11-08T18:11:51.059Z"
   },
   {
    "duration": 12,
    "start_time": "2021-11-08T18:12:00.840Z"
   },
   {
    "duration": 10,
    "start_time": "2021-11-08T18:12:41.224Z"
   },
   {
    "duration": 9,
    "start_time": "2021-11-08T18:12:56.505Z"
   },
   {
    "duration": 10,
    "start_time": "2021-11-08T18:13:05.746Z"
   },
   {
    "duration": 674,
    "start_time": "2021-11-08T18:20:03.374Z"
   },
   {
    "duration": 830,
    "start_time": "2021-11-08T18:27:45.992Z"
   },
   {
    "duration": 10,
    "start_time": "2021-11-08T18:32:06.110Z"
   },
   {
    "duration": 3681,
    "start_time": "2021-11-08T19:13:55.101Z"
   },
   {
    "duration": 1531,
    "start_time": "2021-11-08T19:13:58.785Z"
   },
   {
    "duration": 489,
    "start_time": "2021-11-08T19:14:00.323Z"
   },
   {
    "duration": 6,
    "start_time": "2021-11-08T19:14:00.815Z"
   },
   {
    "duration": 32,
    "start_time": "2021-11-08T19:14:00.824Z"
   },
   {
    "duration": 99,
    "start_time": "2021-11-08T19:14:00.859Z"
   },
   {
    "duration": 3512,
    "start_time": "2021-11-08T19:14:00.960Z"
   },
   {
    "duration": 1375,
    "start_time": "2021-11-08T19:14:04.475Z"
   },
   {
    "duration": 2597,
    "start_time": "2021-11-08T19:14:05.853Z"
   },
   {
    "duration": 155,
    "start_time": "2021-11-08T19:14:08.453Z"
   },
   {
    "duration": 75,
    "start_time": "2021-11-08T19:14:08.610Z"
   },
   {
    "duration": 72,
    "start_time": "2021-11-08T19:14:08.687Z"
   },
   {
    "duration": 209,
    "start_time": "2021-11-08T19:14:08.762Z"
   },
   {
    "duration": 67,
    "start_time": "2021-11-08T19:14:08.973Z"
   },
   {
    "duration": 20,
    "start_time": "2021-11-08T19:14:09.042Z"
   },
   {
    "duration": 18,
    "start_time": "2021-11-08T19:14:09.065Z"
   },
   {
    "duration": 216,
    "start_time": "2021-11-08T19:14:09.085Z"
   },
   {
    "duration": 35,
    "start_time": "2021-11-08T19:14:09.304Z"
   },
   {
    "duration": 3299,
    "start_time": "2021-11-08T19:14:09.342Z"
   },
   {
    "duration": 482,
    "start_time": "2021-11-08T19:14:12.644Z"
   },
   {
    "duration": 699,
    "start_time": "2021-11-08T19:14:13.128Z"
   },
   {
    "duration": 10,
    "start_time": "2021-11-08T19:14:13.830Z"
   },
   {
    "duration": 522,
    "start_time": "2021-11-08T19:14:13.844Z"
   },
   {
    "duration": 662,
    "start_time": "2021-11-08T19:14:14.369Z"
   },
   {
    "duration": 10,
    "start_time": "2021-11-08T19:14:15.035Z"
   },
   {
    "duration": 108,
    "start_time": "2021-11-08T19:53:32.830Z"
   },
   {
    "duration": 8757,
    "start_time": "2021-11-09T16:21:57.669Z"
   },
   {
    "duration": 1222,
    "start_time": "2021-11-09T16:22:06.428Z"
   },
   {
    "duration": 420,
    "start_time": "2021-11-09T16:22:07.652Z"
   },
   {
    "duration": 5,
    "start_time": "2021-11-09T16:22:08.074Z"
   },
   {
    "duration": 19,
    "start_time": "2021-11-09T16:22:08.081Z"
   },
   {
    "duration": 54,
    "start_time": "2021-11-09T16:22:08.101Z"
   },
   {
    "duration": 2124,
    "start_time": "2021-11-09T16:22:08.157Z"
   },
   {
    "duration": 863,
    "start_time": "2021-11-09T16:22:10.283Z"
   },
   {
    "duration": 1604,
    "start_time": "2021-11-09T16:22:11.148Z"
   },
   {
    "duration": 111,
    "start_time": "2021-11-09T16:22:12.753Z"
   },
   {
    "duration": 57,
    "start_time": "2021-11-09T16:22:12.866Z"
   },
   {
    "duration": 37,
    "start_time": "2021-11-09T16:22:12.925Z"
   },
   {
    "duration": 144,
    "start_time": "2021-11-09T16:22:12.964Z"
   },
   {
    "duration": 37,
    "start_time": "2021-11-09T16:22:13.110Z"
   },
   {
    "duration": 17,
    "start_time": "2021-11-09T16:22:13.149Z"
   },
   {
    "duration": 11,
    "start_time": "2021-11-09T16:22:13.167Z"
   },
   {
    "duration": 126,
    "start_time": "2021-11-09T16:22:13.207Z"
   },
   {
    "duration": 18,
    "start_time": "2021-11-09T16:22:13.336Z"
   },
   {
    "duration": 2154,
    "start_time": "2021-11-09T16:22:13.356Z"
   },
   {
    "duration": 355,
    "start_time": "2021-11-09T16:22:15.512Z"
   },
   {
    "duration": 435,
    "start_time": "2021-11-09T16:22:15.868Z"
   },
   {
    "duration": 6,
    "start_time": "2021-11-09T16:22:16.307Z"
   },
   {
    "duration": 348,
    "start_time": "2021-11-09T16:22:16.316Z"
   },
   {
    "duration": 619,
    "start_time": "2021-11-09T16:22:16.665Z"
   },
   {
    "duration": 12,
    "start_time": "2021-11-09T16:22:17.287Z"
   },
   {
    "duration": 2756,
    "start_time": "2021-11-09T16:22:24.153Z"
   },
   {
    "duration": 1213,
    "start_time": "2021-11-09T16:22:26.912Z"
   },
   {
    "duration": 402,
    "start_time": "2021-11-09T16:22:28.127Z"
   },
   {
    "duration": 4,
    "start_time": "2021-11-09T16:22:28.531Z"
   },
   {
    "duration": 15,
    "start_time": "2021-11-09T16:22:28.536Z"
   },
   {
    "duration": 59,
    "start_time": "2021-11-09T16:22:28.553Z"
   },
   {
    "duration": 2113,
    "start_time": "2021-11-09T16:22:28.614Z"
   },
   {
    "duration": 974,
    "start_time": "2021-11-09T16:22:30.729Z"
   },
   {
    "duration": 1587,
    "start_time": "2021-11-09T16:22:31.707Z"
   },
   {
    "duration": 112,
    "start_time": "2021-11-09T16:22:33.295Z"
   },
   {
    "duration": 51,
    "start_time": "2021-11-09T16:22:33.409Z"
   },
   {
    "duration": 54,
    "start_time": "2021-11-09T16:22:33.462Z"
   },
   {
    "duration": 139,
    "start_time": "2021-11-09T16:22:33.518Z"
   },
   {
    "duration": 50,
    "start_time": "2021-11-09T16:22:33.659Z"
   },
   {
    "duration": 12,
    "start_time": "2021-11-09T16:22:33.711Z"
   },
   {
    "duration": 26,
    "start_time": "2021-11-09T16:22:33.725Z"
   },
   {
    "duration": 125,
    "start_time": "2021-11-09T16:22:33.753Z"
   },
   {
    "duration": 17,
    "start_time": "2021-11-09T16:22:33.880Z"
   },
   {
    "duration": 2034,
    "start_time": "2021-11-09T16:22:33.907Z"
   },
   {
    "duration": 349,
    "start_time": "2021-11-09T16:22:35.942Z"
   },
   {
    "duration": 436,
    "start_time": "2021-11-09T16:22:36.292Z"
   },
   {
    "duration": 7,
    "start_time": "2021-11-09T16:22:36.729Z"
   },
   {
    "duration": 353,
    "start_time": "2021-11-09T16:22:36.739Z"
   },
   {
    "duration": 429,
    "start_time": "2021-11-09T16:22:37.094Z"
   },
   {
    "duration": 180,
    "start_time": "2021-11-09T16:22:37.525Z"
   },
   {
    "duration": 5,
    "start_time": "2021-11-09T17:30:29.962Z"
   },
   {
    "duration": 4,
    "start_time": "2021-11-09T17:30:33.635Z"
   },
   {
    "duration": 97,
    "start_time": "2021-11-09T17:36:28.725Z"
   },
   {
    "duration": 8,
    "start_time": "2021-11-09T17:37:04.244Z"
   },
   {
    "duration": 8,
    "start_time": "2021-11-09T17:39:40.188Z"
   },
   {
    "duration": 9,
    "start_time": "2021-11-09T17:40:05.414Z"
   },
   {
    "duration": 4,
    "start_time": "2021-11-09T17:45:30.283Z"
   },
   {
    "duration": 11713,
    "start_time": "2021-11-16T08:59:42.623Z"
   },
   {
    "duration": 1650,
    "start_time": "2021-11-16T08:59:54.340Z"
   },
   {
    "duration": 527,
    "start_time": "2021-11-16T08:59:55.993Z"
   },
   {
    "duration": 6,
    "start_time": "2021-11-16T08:59:56.522Z"
   },
   {
    "duration": 24,
    "start_time": "2021-11-16T08:59:56.530Z"
   },
   {
    "duration": 101,
    "start_time": "2021-11-16T08:59:56.556Z"
   },
   {
    "duration": 3444,
    "start_time": "2021-11-16T08:59:56.660Z"
   },
   {
    "duration": 1474,
    "start_time": "2021-11-16T09:00:00.107Z"
   },
   {
    "duration": 2720,
    "start_time": "2021-11-16T09:00:01.587Z"
   },
   {
    "duration": 158,
    "start_time": "2021-11-16T09:00:04.310Z"
   },
   {
    "duration": 78,
    "start_time": "2021-11-16T09:00:04.470Z"
   },
   {
    "duration": 62,
    "start_time": "2021-11-16T09:00:04.551Z"
   },
   {
    "duration": 196,
    "start_time": "2021-11-16T09:00:04.616Z"
   },
   {
    "duration": 54,
    "start_time": "2021-11-16T09:00:04.814Z"
   },
   {
    "duration": 45,
    "start_time": "2021-11-16T09:00:04.871Z"
   },
   {
    "duration": 18,
    "start_time": "2021-11-16T09:00:04.919Z"
   },
   {
    "duration": 235,
    "start_time": "2021-11-16T09:00:04.940Z"
   },
   {
    "duration": 35,
    "start_time": "2021-11-16T09:00:05.177Z"
   },
   {
    "duration": 3301,
    "start_time": "2021-11-16T09:00:05.214Z"
   },
   {
    "duration": 482,
    "start_time": "2021-11-16T09:00:08.517Z"
   },
   {
    "duration": 712,
    "start_time": "2021-11-16T09:00:09.002Z"
   },
   {
    "duration": 9,
    "start_time": "2021-11-16T09:00:09.717Z"
   },
   {
    "duration": 630,
    "start_time": "2021-11-16T09:00:09.729Z"
   },
   {
    "duration": 706,
    "start_time": "2021-11-16T09:00:10.361Z"
   },
   {
    "duration": 9,
    "start_time": "2021-11-16T09:00:11.070Z"
   },
   {
    "duration": 4,
    "start_time": "2021-11-16T09:20:34.295Z"
   },
   {
    "duration": 18,
    "start_time": "2021-11-16T09:20:48.303Z"
   },
   {
    "duration": 597,
    "start_time": "2021-11-16T09:21:02.296Z"
   },
   {
    "duration": 386,
    "start_time": "2021-11-16T09:21:24.918Z"
   },
   {
    "duration": 395,
    "start_time": "2021-11-16T09:21:32.661Z"
   },
   {
    "duration": 382,
    "start_time": "2021-11-16T09:26:41.580Z"
   },
   {
    "duration": 9,
    "start_time": "2021-11-16T09:26:49.822Z"
   },
   {
    "duration": 12,
    "start_time": "2021-11-16T09:27:25.172Z"
   },
   {
    "duration": 413,
    "start_time": "2021-11-16T09:27:30.594Z"
   },
   {
    "duration": 11,
    "start_time": "2021-11-16T09:27:33.857Z"
   },
   {
    "duration": 18,
    "start_time": "2021-11-16T09:54:45.817Z"
   },
   {
    "duration": 21,
    "start_time": "2021-11-16T10:00:15.135Z"
   },
   {
    "duration": 29,
    "start_time": "2021-11-16T10:00:37.753Z"
   },
   {
    "duration": 22,
    "start_time": "2021-11-16T10:01:36.896Z"
   },
   {
    "duration": 137,
    "start_time": "2021-11-16T10:01:52.518Z"
   },
   {
    "duration": 21,
    "start_time": "2021-11-16T10:01:59.838Z"
   },
   {
    "duration": 27,
    "start_time": "2021-11-16T10:02:41.697Z"
   },
   {
    "duration": 22,
    "start_time": "2021-11-16T10:07:31.679Z"
   },
   {
    "duration": 21,
    "start_time": "2021-11-16T10:07:39.023Z"
   },
   {
    "duration": 141,
    "start_time": "2021-11-16T10:11:50.449Z"
   },
   {
    "duration": 18,
    "start_time": "2021-11-16T10:11:56.464Z"
   },
   {
    "duration": 132,
    "start_time": "2021-11-16T10:16:11.012Z"
   },
   {
    "duration": 32,
    "start_time": "2021-11-16T10:16:15.654Z"
   },
   {
    "duration": 2511,
    "start_time": "2021-11-16T10:16:40.837Z"
   },
   {
    "duration": 846,
    "start_time": "2021-11-16T10:21:17.725Z"
   },
   {
    "duration": 678,
    "start_time": "2021-11-16T10:21:59.506Z"
   },
   {
    "duration": 500,
    "start_time": "2021-11-16T10:23:26.679Z"
   },
   {
    "duration": 399,
    "start_time": "2021-11-16T10:24:11.665Z"
   },
   {
    "duration": 409,
    "start_time": "2021-11-16T10:24:28.469Z"
   },
   {
    "duration": 441,
    "start_time": "2021-11-16T10:35:59.679Z"
   },
   {
    "duration": 31,
    "start_time": "2021-11-16T10:38:41.798Z"
   },
   {
    "duration": 53,
    "start_time": "2021-11-16T10:40:14.461Z"
   },
   {
    "duration": 55,
    "start_time": "2021-11-16T10:40:32.892Z"
   },
   {
    "duration": 35,
    "start_time": "2021-11-16T10:49:29.967Z"
   },
   {
    "duration": 25,
    "start_time": "2021-11-16T10:50:06.134Z"
   },
   {
    "duration": 42,
    "start_time": "2021-11-16T10:50:20.436Z"
   },
   {
    "duration": 36,
    "start_time": "2021-11-16T10:51:04.271Z"
   },
   {
    "duration": 35,
    "start_time": "2021-11-16T10:51:13.692Z"
   },
   {
    "duration": 36,
    "start_time": "2021-11-16T10:51:46.444Z"
   },
   {
    "duration": 33,
    "start_time": "2021-11-16T10:52:12.654Z"
   },
   {
    "duration": 215,
    "start_time": "2021-11-16T10:52:44.806Z"
   },
   {
    "duration": 44,
    "start_time": "2021-11-16T10:52:47.820Z"
   },
   {
    "duration": 699,
    "start_time": "2021-11-16T10:52:50.812Z"
   },
   {
    "duration": 1221,
    "start_time": "2021-11-16T10:53:03.595Z"
   },
   {
    "duration": 1082,
    "start_time": "2021-11-16T10:53:20.514Z"
   },
   {
    "duration": 663,
    "start_time": "2021-11-16T10:53:33.936Z"
   },
   {
    "duration": 697,
    "start_time": "2021-11-16T10:53:53.972Z"
   },
   {
    "duration": 720,
    "start_time": "2021-11-16T10:54:09.788Z"
   },
   {
    "duration": 47,
    "start_time": "2021-11-16T10:55:26.701Z"
   },
   {
    "duration": 48,
    "start_time": "2021-11-16T10:55:36.482Z"
   },
   {
    "duration": 39,
    "start_time": "2021-11-16T10:55:49.225Z"
   },
   {
    "duration": 40,
    "start_time": "2021-11-16T10:56:01.780Z"
   },
   {
    "duration": 696,
    "start_time": "2021-11-16T10:56:58.713Z"
   },
   {
    "duration": 24,
    "start_time": "2021-11-16T10:57:15.598Z"
   },
   {
    "duration": 58,
    "start_time": "2021-11-16T10:57:21.838Z"
   },
   {
    "duration": 44,
    "start_time": "2021-11-16T10:59:14.307Z"
   },
   {
    "duration": 46,
    "start_time": "2021-11-16T10:59:45.082Z"
   },
   {
    "duration": 38,
    "start_time": "2021-11-16T10:59:53.330Z"
   },
   {
    "duration": 44,
    "start_time": "2021-11-16T11:01:49.184Z"
   },
   {
    "duration": 35,
    "start_time": "2021-11-16T11:02:44.187Z"
   },
   {
    "duration": 41,
    "start_time": "2021-11-16T11:03:14.869Z"
   },
   {
    "duration": 716,
    "start_time": "2021-11-16T11:03:28.008Z"
   },
   {
    "duration": 849,
    "start_time": "2021-11-16T11:09:40.913Z"
   },
   {
    "duration": 862,
    "start_time": "2021-11-16T11:10:18.301Z"
   },
   {
    "duration": 1218,
    "start_time": "2021-11-16T11:11:53.920Z"
   },
   {
    "duration": 5363,
    "start_time": "2021-11-16T11:12:01.067Z"
   },
   {
    "duration": 656,
    "start_time": "2021-11-16T11:16:03.045Z"
   },
   {
    "duration": 609,
    "start_time": "2021-11-16T11:16:36.299Z"
   },
   {
    "duration": 581,
    "start_time": "2021-11-16T11:18:25.631Z"
   },
   {
    "duration": 613,
    "start_time": "2021-11-16T11:18:29.208Z"
   },
   {
    "duration": 590,
    "start_time": "2021-11-16T11:21:40.477Z"
   },
   {
    "duration": 735,
    "start_time": "2021-11-16T11:22:00.571Z"
   },
   {
    "duration": 600,
    "start_time": "2021-11-16T11:22:42.363Z"
   },
   {
    "duration": 615,
    "start_time": "2021-11-16T11:22:52.154Z"
   },
   {
    "duration": 643,
    "start_time": "2021-11-16T11:22:57.490Z"
   },
   {
    "duration": 678,
    "start_time": "2021-11-16T11:23:07.178Z"
   },
   {
    "duration": 615,
    "start_time": "2021-11-16T11:23:15.980Z"
   },
   {
    "duration": 958,
    "start_time": "2021-11-16T11:23:48.284Z"
   },
   {
    "duration": 642,
    "start_time": "2021-11-16T11:34:34.602Z"
   },
   {
    "duration": 602,
    "start_time": "2021-11-16T11:36:00.869Z"
   }
  ],
  "kernelspec": {
   "display_name": "Python 3 (ipykernel)",
   "language": "python",
   "name": "python3"
  },
  "language_info": {
   "codemirror_mode": {
    "name": "ipython",
    "version": 3
   },
   "file_extension": ".py",
   "mimetype": "text/x-python",
   "name": "python",
   "nbconvert_exporter": "python",
   "pygments_lexer": "ipython3",
   "version": "3.9.14"
  },
  "toc": {
   "base_numbering": 1,
   "nav_menu": {},
   "number_sections": true,
   "sideBar": true,
   "skip_h1_title": true,
   "title_cell": "Table of Contents",
   "title_sidebar": "Contents",
   "toc_cell": false,
   "toc_position": {},
   "toc_section_display": true,
   "toc_window_display": false
  }
 },
 "nbformat": 4,
 "nbformat_minor": 2
}
